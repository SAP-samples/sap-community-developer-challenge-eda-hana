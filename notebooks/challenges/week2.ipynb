{
 "cells": [
  {
   "cell_type": "markdown",
   "id": "f6925517-e046-44bc-9cbf-85a18a5f9b89",
   "metadata": {},
   "source": [
    "This is a notebook for the **Week 2 of the Developer Challenge: https://blogs.sap.com/2023/03/08/sap-community-developer-challenge-eda-with-sap-hana-and-python/**\n",
    "\n",
    "Some code might be incomplete or incorrect. It is your task to fix it and execute the whole notebook receiving correct results.\n",
    "\n",
    "Submit the link to your solution: https://groups.community.sap.com/t5/application-development/submissions-for-quot-eda-with-sap-hana-quot-developer-challenge/m-p/224446/highlight/true#M1129"
   ]
  },
  {
   "cell_type": "markdown",
   "id": "fa070ec3-31f9-4768-b6a6-5ac788fd53bc",
   "metadata": {},
   "source": [
    "## Initialize the notebook\n",
    "\n",
    "Import required packages"
   ]
  },
  {
   "cell_type": "code",
   "execution_count": 3,
   "id": "2beafea6-10d2-4394-93fa-e71090b1f4e5",
   "metadata": {},
   "outputs": [],
   "source": [
    "from hana_ml import dataframe as hdf\n",
    "import pandas as pd"
   ]
  },
  {
   "cell_type": "markdown",
   "id": "6bab666a-22f0-43c0-aee5-24b614802946",
   "metadata": {},
   "source": [
    "Connect to SAP HANA database instance with a database user, same as during Week 1!"
   ]
  },
  {
   "cell_type": "code",
   "execution_count": 4,
   "id": "2bf4389a-b734-47a5-9fec-8ffbe84e3aa3",
   "metadata": {},
   "outputs": [
    {
     "name": "stdout",
     "output_type": "stream",
     "text": [
      "SAP HANA DB version:  4.00.000.00.1678185420 (fa/CE2022.42)\n"
     ]
    }
   ],
   "source": [
    "myconn=hdf.ConnectionContext(userkey='DevChallenger')\n",
    "print(\"SAP HANA DB version: \", myconn.hana_version())"
   ]
  },
  {
   "cell_type": "code",
   "execution_count": 5,
   "id": "7e444bbe-4d3d-4b1a-8167-5ed884aa1abb",
   "metadata": {},
   "outputs": [
    {
     "name": "stdout",
     "output_type": "stream",
     "text": [
      "2023-03-15 14:20:48.379000\n"
     ]
    }
   ],
   "source": [
    "print(myconn.sql(\"SELECT NOW() FROM DUMMY\").collect().CURRENT_TIMESTAMP[0])"
   ]
  },
  {
   "cell_type": "markdown",
   "id": "b8e53d9f-2c10-44a0-a1ad-e1253a8b7b32",
   "metadata": {},
   "source": [
    "# Working with SAP HANA tables in a Python client \n",
    "\n",
    "Below you will find two approaches creating tables, populating them with data and retrieving this data from Python:\n",
    "1. Compatible with Python standard proposal PEP 249 using SQL\n",
    "2. Using HANA DataFrame abstract from `hana_ml`"
   ]
  },
  {
   "cell_type": "markdown",
   "id": "01b97cc2-e76f-4e7e-8e0b-d480b77a34a5",
   "metadata": {},
   "source": [
    "## 1. Approach compatible with Python proposal PEP 249 using SQL\n",
    "\n",
    "References:\n",
    "1. https://peps.python.org/pep-0249/#connection-objects\n",
    "2. https://help.sap.com/docs/SAP_HANA_CLIENT/f1b440ded6144a54ada97ff95dac7adf/3b5ebe388c1040ec83617c9e511ecda5.html?version=2.15&locale=en-US"
   ]
  },
  {
   "cell_type": "markdown",
   "id": "93623276-8f30-4390-976e-fba68a8a0c0c",
   "metadata": {},
   "source": [
    "`ConnectionContext` in `hana-ml` represents a connection to a SAP HANA database instance.\n",
    "\n",
    "It has [an attribute `connection`](https://help.sap.com/doc/cd94b08fe2e041c2ba778374572ddba9/2022_4_QRC/en-US/hana_ml.dataframe.html#hana_ml.dataframe.ConnectionContext) which is the underlying dbapi connection from [SAP HANA Client's Python driver `hdbcli`](https://help.sap.com/docs/SAP_HANA_CLIENT/f1b440ded6144a54ada97ff95dac7adf/d12c86af7cb442d1b9f8520e2aba7758.html?version=2.15&locale=en-US).\n",
    "\n",
    "Let's open a [cursor](https://help.sap.com/docs/SAP_HANA_CLIENT/f1b440ded6144a54ada97ff95dac7adf/d0c010fa5c4e4e4cba7b791cd1c9479b.html?version=2.15&locale=en-US) called `mycursor` to be used for the fetch operations."
   ]
  },
  {
   "cell_type": "code",
   "execution_count": 11,
   "id": "04200766-d0ba-4868-a4a1-84dd60e52253",
   "metadata": {},
   "outputs": [],
   "source": [
    "mycursor = myconn.connection.cursor()"
   ]
  },
  {
   "cell_type": "markdown",
   "id": "12618eb5-0ad1-4f6e-90a5-e4d1af2386e3",
   "metadata": {},
   "source": [
    "[Execute an SQL statement](https://help.sap.com/docs/SAP_HANA_CLIENT/f1b440ded6144a54ada97ff95dac7adf/3b89755ceec042e5919313b40acf8794.html?version=2.15&locale=en-US) to create a table `SEASONS` in the database."
   ]
  },
  {
   "cell_type": "code",
   "execution_count": 18,
   "id": "13f4879d-bf45-483d-bff8-b78e65aaf1ef",
   "metadata": {},
   "outputs": [],
   "source": [
    "mycursor.execute('DROP TABLE \"SEASONS\"'); #uncomment to drop the table, if already exists\n",
    "\n",
    "mycursor.execute('''\n",
    "CREATE TABLE \"SEASONS\" (\n",
    "  \"ID\" INT PRIMARY KEY, \n",
    "  \"DESC\" VARCHAR(12)\n",
    ")\n",
    "''');"
   ]
  },
  {
   "cell_type": "markdown",
   "id": "5b8f9deb-d65e-4db3-8831-89c86cacb838",
   "metadata": {},
   "source": [
    "Use [SQL statement to insert multiple records](https://help.sap.com/docs/SAP_HANA_CLIENT/f1b440ded6144a54ada97ff95dac7adf/15e46b843c8045ec854d6375790cd504.html?version=2.15&locale=en-US) into the table `SEASONS`.\n",
    "\n",
    "You should get the following result after execurting the cell below:\n",
    "```\n",
    "Records inserted:  4\n",
    "```"
   ]
  },
  {
   "cell_type": "code",
   "execution_count": 24,
   "id": "379fb9a1-5185-474b-bf08-76e1d641e9b4",
   "metadata": {},
   "outputs": [
    {
     "name": "stdout",
     "output_type": "stream",
     "text": [
      "Records inserted:  4\n"
     ]
    }
   ],
   "source": [
    "mycursor.execute('TRUNCATE TABLE \"SEASONS\"');\n",
    "\n",
    "records_inserted=mycursor.executemany(operation='INSERT INTO \"SEASONS\" (\"ID\", \"DESC\") VALUES (?, ?)',\n",
    "                                     list_of_parameters=\n",
    "                                      ((1, \"WINTER\"),\n",
    "                                      (2, \"SPRING\"),\n",
    "                                      (3, \"SUMMER\"),\n",
    "                                      (4, \"FALL\"))\n",
    "                                     )\n",
    "print(\"Records inserted: \", sum(records_inserted))"
   ]
  },
  {
   "cell_type": "markdown",
   "id": "ac4087fb-37c3-4981-9a3f-15ffb7569869",
   "metadata": {},
   "source": [
    "Use SQL statement to fetch all records from the table\n",
    "\n",
    "You should get:\n",
    "```\n",
    "the first record (1, 'WINTER')\n",
    "the second record (2, 'SPRING')\n",
    "the rest of records [(3, 'SUMMER'), (4, 'FALL')]\n",
    "```"
   ]
  },
  {
   "cell_type": "code",
   "execution_count": 28,
   "id": "324bc792-b18e-441a-bc63-776e39486473",
   "metadata": {},
   "outputs": [
    {
     "name": "stdout",
     "output_type": "stream",
     "text": [
      "the first record (1, 'WINTER')\n",
      "the second record (2, 'SPRING')\n",
      "the rest of records [(3, 'SUMMER'), (4, 'FALL')]\n"
     ]
    }
   ],
   "source": [
    "mycursor.execute('SELECT * FROM \"SEASONS\"')\n",
    "#Get the first record\n",
    "result=mycursor.fetchone()\n",
    "print(\"the first record\", result)\n",
    "\n",
    "#Get the second record\n",
    "result=mycursor.fetchone()\n",
    "print(\"the second record\", result)\n",
    "\n",
    "#Get the rest of records\n",
    "result=mycursor.fetchall()\n",
    "print(\"the rest of records\", result)"
   ]
  },
  {
   "cell_type": "markdown",
   "id": "d30ef46c-85ba-4ff7-8601-f4b281aff2ca",
   "metadata": {},
   "source": [
    "### Let's check tables created so far in the current database schema."
   ]
  },
  {
   "cell_type": "code",
   "execution_count": 29,
   "id": "8d6bc7db-e4c9-4ef5-abc1-60a86750a58f",
   "metadata": {},
   "outputs": [
    {
     "name": "stdout",
     "output_type": "stream",
     "text": [
      "Current database schema: DEVCHALLENGER\n"
     ]
    }
   ],
   "source": [
    "print(f\"Current database schema: {myconn.get_current_schema()}\")"
   ]
  },
  {
   "cell_type": "code",
   "execution_count": 30,
   "id": "0af45c3e-ee72-442f-b82b-09e8e5cbffb4",
   "metadata": {},
   "outputs": [
    {
     "name": "stdout",
     "output_type": "stream",
     "text": [
      "1 table(s) in the schema DEVCHALLENGER: ['SEASONS']\n"
     ]
    }
   ],
   "source": [
    "mycursor.execute(f'''\n",
    "SELECT TABLE_NAME\n",
    "FROM M_TABLES\n",
    "WHERE SCHEMA_NAME='{myconn.get_current_schema()}'\n",
    "''')\n",
    "\n",
    "#Get all records\n",
    "result=mycursor.fetchall()\n",
    "print(f\"{len(result)} table(s) in the schema {myconn.get_current_schema()}: {[x[0] for x in result]}\")"
   ]
  },
  {
   "cell_type": "markdown",
   "id": "9341740f-c224-49df-9523-722e4c468c71",
   "metadata": {},
   "source": [
    "# 2. `hana-ml` approach using interoperability between Pandas DataFrames and HANA DataFrames\n",
    "\n",
    "References:\n",
    "1. https://help.sap.com/doc/cd94b08fe2e041c2ba778374572ddba9/2022_4_QRC/en-US/hana_ml.html#sap-hana-dataframe\n",
    "1. https://pandas.pydata.org/docs/reference/api/pandas.DataFrame.html"
   ]
  },
  {
   "cell_type": "markdown",
   "id": "74856c9d-110d-4e22-b2a0-c3a8f9440486",
   "metadata": {},
   "source": [
    "Create a table `MONTHS` in the current database schema.\n",
    "\n",
    "But this time you should use [`create_table()` method](https://help.sap.com/doc/cd94b08fe2e041c2ba778374572ddba9/2022_4_QRC/en-US/hana_ml.dataframe.html#hana_ml.dataframe.ConnectionContext.create_table) from `hana_ml`."
   ]
  },
  {
   "cell_type": "code",
   "execution_count": 31,
   "id": "9b5363b7-c015-4ead-963f-b6aff1a96ede",
   "metadata": {},
   "outputs": [],
   "source": [
    "# myconn.drop_table(\"MONTHS\")\n",
    "myconn.create_table(\"MONTHS\", table_structure={\"ID\":\"INT\", \"DESC\":\"VARCHAR(10)\"})"
   ]
  },
  {
   "cell_type": "markdown",
   "id": "63b52694-db0f-41c5-abbe-034034e5019a",
   "metadata": {
    "tags": []
   },
   "source": [
    "Check tables created so far in the current database schema.\n",
    "\n",
    "But this time you should use [`get_tables()` method](https://help.sap.com/doc/cd94b08fe2e041c2ba778374572ddba9/2022_4_QRC/en-US/hana_ml.dataframe.html#hana_ml.dataframe.ConnectionContext.get_tables) from `hana_ml`."
   ]
  },
  {
   "cell_type": "code",
   "execution_count": 33,
   "id": "85ecb5cd-c17a-456e-98c9-052faeb79c82",
   "metadata": {},
   "outputs": [
    {
     "data": {
      "text/html": [
       "<div>\n",
       "<style scoped>\n",
       "    .dataframe tbody tr th:only-of-type {\n",
       "        vertical-align: middle;\n",
       "    }\n",
       "\n",
       "    .dataframe tbody tr th {\n",
       "        vertical-align: top;\n",
       "    }\n",
       "\n",
       "    .dataframe thead th {\n",
       "        text-align: right;\n",
       "    }\n",
       "</style>\n",
       "<table border=\"1\" class=\"dataframe\">\n",
       "  <thead>\n",
       "    <tr style=\"text-align: right;\">\n",
       "      <th></th>\n",
       "      <th>TABLE_NAME</th>\n",
       "    </tr>\n",
       "  </thead>\n",
       "  <tbody>\n",
       "    <tr>\n",
       "      <th>0</th>\n",
       "      <td>MONTHS</td>\n",
       "    </tr>\n",
       "    <tr>\n",
       "      <th>1</th>\n",
       "      <td>SEASONS</td>\n",
       "    </tr>\n",
       "  </tbody>\n",
       "</table>\n",
       "</div>"
      ],
      "text/plain": [
       "  TABLE_NAME\n",
       "0     MONTHS\n",
       "1    SEASONS"
      ]
     },
     "execution_count": 33,
     "metadata": {},
     "output_type": "execute_result"
    }
   ],
   "source": [
    "myconn.get_tables()"
   ]
  },
  {
   "cell_type": "markdown",
   "id": "eb360fce-7097-4242-a8a5-9b99f36736cd",
   "metadata": {},
   "source": [
    "Create [Pandas DataFrame](https://pandas.pydata.org/docs/getting_started/intro_tutorials/01_table_oriented.html#what-kind-of-data-does-pandas-handle) with data describing calendar months. \n",
    "\n",
    "The name of the object is `months_df`, and it is quite common to use `_df` postfix in a name of a variable storing Pandas DataFrame."
   ]
  },
  {
   "cell_type": "code",
   "execution_count": 34,
   "id": "6bce716e-3391-40ad-bf31-439d32eb2f38",
   "metadata": {},
   "outputs": [],
   "source": [
    "months_df=pd.DataFrame(\n",
    "    {\"ID\": range(1,13),\n",
    "     \"DESC\": ['JAN', 'FEB', 'MAR', 'APR', 'MAY', 'JUN', 'JUL', 'AUG', 'SEP', 'OCT', 'NOV', 'DEC']\n",
    "    })"
   ]
  },
  {
   "cell_type": "markdown",
   "id": "c33431e1-c37e-4e5e-b88b-351bbd6f3924",
   "metadata": {},
   "source": [
    "Display data from Pandas DataFrame `months_df`. \n",
    "> For the clarity of the output `.style.hide(axis='index')` can be added to remove the Pandas index from the output."
   ]
  },
  {
   "cell_type": "code",
   "execution_count": 36,
   "id": "5f167180-fe6c-4406-98c5-6e38cc0398cd",
   "metadata": {},
   "outputs": [
    {
     "data": {
      "text/html": [
       "<div>\n",
       "<style scoped>\n",
       "    .dataframe tbody tr th:only-of-type {\n",
       "        vertical-align: middle;\n",
       "    }\n",
       "\n",
       "    .dataframe tbody tr th {\n",
       "        vertical-align: top;\n",
       "    }\n",
       "\n",
       "    .dataframe thead th {\n",
       "        text-align: right;\n",
       "    }\n",
       "</style>\n",
       "<table border=\"1\" class=\"dataframe\">\n",
       "  <thead>\n",
       "    <tr style=\"text-align: right;\">\n",
       "      <th></th>\n",
       "      <th>ID</th>\n",
       "      <th>DESC</th>\n",
       "    </tr>\n",
       "  </thead>\n",
       "  <tbody>\n",
       "    <tr>\n",
       "      <th>0</th>\n",
       "      <td>1</td>\n",
       "      <td>JAN</td>\n",
       "    </tr>\n",
       "    <tr>\n",
       "      <th>1</th>\n",
       "      <td>2</td>\n",
       "      <td>FEB</td>\n",
       "    </tr>\n",
       "    <tr>\n",
       "      <th>2</th>\n",
       "      <td>3</td>\n",
       "      <td>MAR</td>\n",
       "    </tr>\n",
       "    <tr>\n",
       "      <th>3</th>\n",
       "      <td>4</td>\n",
       "      <td>APR</td>\n",
       "    </tr>\n",
       "    <tr>\n",
       "      <th>4</th>\n",
       "      <td>5</td>\n",
       "      <td>MAY</td>\n",
       "    </tr>\n",
       "    <tr>\n",
       "      <th>5</th>\n",
       "      <td>6</td>\n",
       "      <td>JUN</td>\n",
       "    </tr>\n",
       "    <tr>\n",
       "      <th>6</th>\n",
       "      <td>7</td>\n",
       "      <td>JUL</td>\n",
       "    </tr>\n",
       "    <tr>\n",
       "      <th>7</th>\n",
       "      <td>8</td>\n",
       "      <td>AUG</td>\n",
       "    </tr>\n",
       "    <tr>\n",
       "      <th>8</th>\n",
       "      <td>9</td>\n",
       "      <td>SEP</td>\n",
       "    </tr>\n",
       "    <tr>\n",
       "      <th>9</th>\n",
       "      <td>10</td>\n",
       "      <td>OCT</td>\n",
       "    </tr>\n",
       "    <tr>\n",
       "      <th>10</th>\n",
       "      <td>11</td>\n",
       "      <td>NOV</td>\n",
       "    </tr>\n",
       "    <tr>\n",
       "      <th>11</th>\n",
       "      <td>12</td>\n",
       "      <td>DEC</td>\n",
       "    </tr>\n",
       "  </tbody>\n",
       "</table>\n",
       "</div>"
      ],
      "text/plain": [
       "    ID DESC\n",
       "0    1  JAN\n",
       "1    2  FEB\n",
       "2    3  MAR\n",
       "3    4  APR\n",
       "4    5  MAY\n",
       "5    6  JUN\n",
       "6    7  JUL\n",
       "7    8  AUG\n",
       "8    9  SEP\n",
       "9   10  OCT\n",
       "10  11  NOV\n",
       "11  12  DEC"
      ]
     },
     "metadata": {},
     "output_type": "display_data"
    },
    {
     "data": {
      "text/html": [
       "<style type=\"text/css\">\n",
       "</style>\n",
       "<table id=\"T_46f4e\">\n",
       "  <thead>\n",
       "    <tr>\n",
       "      <th id=\"T_46f4e_level0_col0\" class=\"col_heading level0 col0\" >ID</th>\n",
       "      <th id=\"T_46f4e_level0_col1\" class=\"col_heading level0 col1\" >DESC</th>\n",
       "    </tr>\n",
       "  </thead>\n",
       "  <tbody>\n",
       "    <tr>\n",
       "      <td id=\"T_46f4e_row0_col0\" class=\"data row0 col0\" >1</td>\n",
       "      <td id=\"T_46f4e_row0_col1\" class=\"data row0 col1\" >JAN</td>\n",
       "    </tr>\n",
       "    <tr>\n",
       "      <td id=\"T_46f4e_row1_col0\" class=\"data row1 col0\" >2</td>\n",
       "      <td id=\"T_46f4e_row1_col1\" class=\"data row1 col1\" >FEB</td>\n",
       "    </tr>\n",
       "    <tr>\n",
       "      <td id=\"T_46f4e_row2_col0\" class=\"data row2 col0\" >3</td>\n",
       "      <td id=\"T_46f4e_row2_col1\" class=\"data row2 col1\" >MAR</td>\n",
       "    </tr>\n",
       "    <tr>\n",
       "      <td id=\"T_46f4e_row3_col0\" class=\"data row3 col0\" >4</td>\n",
       "      <td id=\"T_46f4e_row3_col1\" class=\"data row3 col1\" >APR</td>\n",
       "    </tr>\n",
       "    <tr>\n",
       "      <td id=\"T_46f4e_row4_col0\" class=\"data row4 col0\" >5</td>\n",
       "      <td id=\"T_46f4e_row4_col1\" class=\"data row4 col1\" >MAY</td>\n",
       "    </tr>\n",
       "    <tr>\n",
       "      <td id=\"T_46f4e_row5_col0\" class=\"data row5 col0\" >6</td>\n",
       "      <td id=\"T_46f4e_row5_col1\" class=\"data row5 col1\" >JUN</td>\n",
       "    </tr>\n",
       "    <tr>\n",
       "      <td id=\"T_46f4e_row6_col0\" class=\"data row6 col0\" >7</td>\n",
       "      <td id=\"T_46f4e_row6_col1\" class=\"data row6 col1\" >JUL</td>\n",
       "    </tr>\n",
       "    <tr>\n",
       "      <td id=\"T_46f4e_row7_col0\" class=\"data row7 col0\" >8</td>\n",
       "      <td id=\"T_46f4e_row7_col1\" class=\"data row7 col1\" >AUG</td>\n",
       "    </tr>\n",
       "    <tr>\n",
       "      <td id=\"T_46f4e_row8_col0\" class=\"data row8 col0\" >9</td>\n",
       "      <td id=\"T_46f4e_row8_col1\" class=\"data row8 col1\" >SEP</td>\n",
       "    </tr>\n",
       "    <tr>\n",
       "      <td id=\"T_46f4e_row9_col0\" class=\"data row9 col0\" >10</td>\n",
       "      <td id=\"T_46f4e_row9_col1\" class=\"data row9 col1\" >OCT</td>\n",
       "    </tr>\n",
       "    <tr>\n",
       "      <td id=\"T_46f4e_row10_col0\" class=\"data row10 col0\" >11</td>\n",
       "      <td id=\"T_46f4e_row10_col1\" class=\"data row10 col1\" >NOV</td>\n",
       "    </tr>\n",
       "    <tr>\n",
       "      <td id=\"T_46f4e_row11_col0\" class=\"data row11 col0\" >12</td>\n",
       "      <td id=\"T_46f4e_row11_col1\" class=\"data row11 col1\" >DEC</td>\n",
       "    </tr>\n",
       "  </tbody>\n",
       "</table>\n"
      ],
      "text/plain": [
       "<pandas.io.formats.style.Styler at 0x112d50460>"
      ]
     },
     "metadata": {},
     "output_type": "display_data"
    }
   ],
   "source": [
    "display(months_df)\n",
    "\n",
    "# compare to executing simply by removing a comment in the line below: \n",
    "display(months_df.style.hide(axis='index'))"
   ]
  },
  {
   "cell_type": "markdown",
   "id": "1b04f61b-e487-4f45-ac82-117c05dac1da",
   "metadata": {},
   "source": [
    "## Create HANA DataFrame from Pandas DataFrame.\n",
    "\n",
    "`hana_ml` provides a [method `create_dataframe_from_pandas`](https://help.sap.com/doc/cd94b08fe2e041c2ba778374572ddba9/2022_4_QRC/en-US/hana_ml.dataframe.html#hana_ml.dataframe.create_dataframe_from_pandas) to store data from the Pandas DataFrame in a table in SAP HANA database. A table is created, if needed.\n",
    "\n",
    "The name of the object is `months_hdf`, and it is quite common to use `_hdf` postfix in a name of a variable storing HANA DataFrame."
   ]
  },
  {
   "cell_type": "code",
   "execution_count": 37,
   "id": "4881ef24-292d-4367-946c-1bb63a5d6391",
   "metadata": {},
   "outputs": [
    {
     "name": "stderr",
     "output_type": "stream",
     "text": [
      "100%|█████████████████████████████████████████████| 1/1 [00:00<00:00,  3.71it/s]\n"
     ]
    }
   ],
   "source": [
    "months_hdf = hdf.create_dataframe_from_pandas(connection_context=myconn,\n",
    "                                      pandas_df=months_df,\n",
    "                                      table_name='MONTHS',\n",
    "                                      primary_key='ID',\n",
    "                                      force=True\n",
    "                                     )"
   ]
  },
  {
   "cell_type": "markdown",
   "id": "5c59285e-3d15-4688-bff8-fc76c1844457",
   "metadata": {},
   "source": [
    "The type of a `months_hdf` object returned from the `create_dataframe_from_pandas` method is a HANA DataFrame (`hana_ml.dataframe.DataFrame`)..."
   ]
  },
  {
   "cell_type": "code",
   "execution_count": 38,
   "id": "7297fe55-d374-41ea-a762-ddb41f993a37",
   "metadata": {},
   "outputs": [
    {
     "data": {
      "text/plain": [
       "hana_ml.dataframe.DataFrame"
      ]
     },
     "execution_count": 38,
     "metadata": {},
     "output_type": "execute_result"
    }
   ],
   "source": [
    "type(months_hdf)"
   ]
  },
  {
   "cell_type": "markdown",
   "id": "aab54a8b-2e37-4253-8342-f2b6512609b5",
   "metadata": {},
   "source": [
    "\n",
    "HANA DataFrames do not store any data on a client side in Python. Each HANA DataFrame only stores a connection contex and a [`select_statement` attribute](https://help.sap.com/doc/cd94b08fe2e041c2ba778374572ddba9/2022_4_QRC/en-US/hana_ml.dataframe.html#hana_ml.dataframe.DataFrame) to be used to retrieve data from the SAP HANA database."
   ]
  },
  {
   "cell_type": "code",
   "execution_count": 39,
   "id": "f317e446-cb9c-411b-90a9-48fc9b2fcb39",
   "metadata": {},
   "outputs": [
    {
     "name": "stdout",
     "output_type": "stream",
     "text": [
      "SELECT * FROM \"MONTHS\"\n"
     ]
    }
   ],
   "source": [
    "print(months_hdf.select_statement)"
   ]
  },
  {
   "cell_type": "markdown",
   "id": "838a3f1f-2cbc-4875-9bcd-3bf442992176",
   "metadata": {},
   "source": [
    "You can, obviously, use that SELECT statement **to retrieve data using SQL** as you've seen in the first approach..."
   ]
  },
  {
   "cell_type": "code",
   "execution_count": 41,
   "id": "0f569052-70bf-4adb-b0e9-d808f4cbc68c",
   "metadata": {},
   "outputs": [
    {
     "name": "stdout",
     "output_type": "stream",
     "text": [
      "All 12 records: [(1, 'JAN'), (2, 'FEB'), (3, 'MAR'), (4, 'APR'), (5, 'MAY'), (6, 'JUN'), (7, 'JUL'), (8, 'AUG'), (9, 'SEP'), (10, 'OCT'), (11, 'NOV'), (12, 'DEC')]\n"
     ]
    }
   ],
   "source": [
    "mycursor.execute(months_hdf.select_statement)\n",
    "\n",
    "#Get all records\n",
    "result=mycursor.fetchall()\n",
    "\n",
    "#Display returned records\n",
    "print(f\"All {len(result)} records: {result}\")"
   ]
  },
  {
   "cell_type": "markdown",
   "id": "b5079536-a4d1-444c-a053-72d66aad56f8",
   "metadata": {},
   "source": [
    "...but **the proper way to retrieve data** from a HANA table is by using a [`collect` method](https://help.sap.com/doc/cd94b08fe2e041c2ba778374572ddba9/2022_4_QRC/en-US/hana_ml.dataframe.html#hana_ml.dataframe.DataFrame.collect), which returns selected data in the form of the Pandas DataFrame."
   ]
  },
  {
   "cell_type": "code",
   "execution_count": 42,
   "id": "85d6e7f4-573b-4228-9cb8-e6a39b174c02",
   "metadata": {},
   "outputs": [
    {
     "data": {
      "text/html": [
       "<div>\n",
       "<style scoped>\n",
       "    .dataframe tbody tr th:only-of-type {\n",
       "        vertical-align: middle;\n",
       "    }\n",
       "\n",
       "    .dataframe tbody tr th {\n",
       "        vertical-align: top;\n",
       "    }\n",
       "\n",
       "    .dataframe thead th {\n",
       "        text-align: right;\n",
       "    }\n",
       "</style>\n",
       "<table border=\"1\" class=\"dataframe\">\n",
       "  <thead>\n",
       "    <tr style=\"text-align: right;\">\n",
       "      <th></th>\n",
       "      <th>ID</th>\n",
       "      <th>DESC</th>\n",
       "    </tr>\n",
       "  </thead>\n",
       "  <tbody>\n",
       "    <tr>\n",
       "      <th>0</th>\n",
       "      <td>1</td>\n",
       "      <td>JAN</td>\n",
       "    </tr>\n",
       "    <tr>\n",
       "      <th>1</th>\n",
       "      <td>2</td>\n",
       "      <td>FEB</td>\n",
       "    </tr>\n",
       "    <tr>\n",
       "      <th>2</th>\n",
       "      <td>3</td>\n",
       "      <td>MAR</td>\n",
       "    </tr>\n",
       "    <tr>\n",
       "      <th>3</th>\n",
       "      <td>4</td>\n",
       "      <td>APR</td>\n",
       "    </tr>\n",
       "    <tr>\n",
       "      <th>4</th>\n",
       "      <td>5</td>\n",
       "      <td>MAY</td>\n",
       "    </tr>\n",
       "    <tr>\n",
       "      <th>5</th>\n",
       "      <td>6</td>\n",
       "      <td>JUN</td>\n",
       "    </tr>\n",
       "    <tr>\n",
       "      <th>6</th>\n",
       "      <td>7</td>\n",
       "      <td>JUL</td>\n",
       "    </tr>\n",
       "    <tr>\n",
       "      <th>7</th>\n",
       "      <td>8</td>\n",
       "      <td>AUG</td>\n",
       "    </tr>\n",
       "    <tr>\n",
       "      <th>8</th>\n",
       "      <td>9</td>\n",
       "      <td>SEP</td>\n",
       "    </tr>\n",
       "    <tr>\n",
       "      <th>9</th>\n",
       "      <td>10</td>\n",
       "      <td>OCT</td>\n",
       "    </tr>\n",
       "    <tr>\n",
       "      <th>10</th>\n",
       "      <td>11</td>\n",
       "      <td>NOV</td>\n",
       "    </tr>\n",
       "    <tr>\n",
       "      <th>11</th>\n",
       "      <td>12</td>\n",
       "      <td>DEC</td>\n",
       "    </tr>\n",
       "  </tbody>\n",
       "</table>\n",
       "</div>"
      ],
      "text/plain": [
       "    ID DESC\n",
       "0    1  JAN\n",
       "1    2  FEB\n",
       "2    3  MAR\n",
       "3    4  APR\n",
       "4    5  MAY\n",
       "5    6  JUN\n",
       "6    7  JUL\n",
       "7    8  AUG\n",
       "8    9  SEP\n",
       "9   10  OCT\n",
       "10  11  NOV\n",
       "11  12  DEC"
      ]
     },
     "execution_count": 42,
     "metadata": {},
     "output_type": "execute_result"
    }
   ],
   "source": [
    "months_hdf.collect()"
   ]
  },
  {
   "cell_type": "markdown",
   "id": "266b06b4-573e-438a-9c36-2069a54bd309",
   "metadata": {},
   "source": [
    "You can see this method returns an instance of a Pandas DataFrame (`pandas.core.frame.DataFrame`)."
   ]
  },
  {
   "cell_type": "code",
   "execution_count": 43,
   "id": "deb918e1-75d2-41b5-a5db-f0b958b4281d",
   "metadata": {},
   "outputs": [
    {
     "data": {
      "text/plain": [
       "pandas.core.frame.DataFrame"
      ]
     },
     "execution_count": 43,
     "metadata": {},
     "output_type": "execute_result"
    }
   ],
   "source": [
    "type(months_hdf.collect())"
   ]
  },
  {
   "cell_type": "markdown",
   "id": "90c0b225-a74c-4269-afc7-6175d761b9fd",
   "metadata": {},
   "source": [
    "## Using `hana-ml` approach to load data from a CSV file (or any other file Pandas can read)\n",
    "\n",
    "In most of the case we do not want to manually type data to be inserted, but have this data already stored in a file, like CSV."
   ]
  },
  {
   "cell_type": "code",
   "execution_count": 44,
   "id": "af83ed8e-d450-4d6c-ae2a-09a19651aef6",
   "metadata": {},
   "outputs": [],
   "source": [
    "url=\"https://raw.githubusercontent.com/SAP-samples/hana-ml-samples/main/Python-API/pal/datasets/bike.csv\"\n",
    "bikes_df = pd.io.parsers.read_csv(url)"
   ]
  },
  {
   "cell_type": "markdown",
   "id": "dffc31d4-247e-481d-a9f0-c80380a4b244",
   "metadata": {},
   "source": [
    "Display the content of the Pandas DataFrame `bikes_df` with data from the CSV file."
   ]
  },
  {
   "cell_type": "code",
   "execution_count": 45,
   "id": "07561e90-b593-4b03-9c8a-647bf73f4523",
   "metadata": {},
   "outputs": [
    {
     "data": {
      "text/html": [
       "<div>\n",
       "<style scoped>\n",
       "    .dataframe tbody tr th:only-of-type {\n",
       "        vertical-align: middle;\n",
       "    }\n",
       "\n",
       "    .dataframe tbody tr th {\n",
       "        vertical-align: top;\n",
       "    }\n",
       "\n",
       "    .dataframe thead th {\n",
       "        text-align: right;\n",
       "    }\n",
       "</style>\n",
       "<table border=\"1\" class=\"dataframe\">\n",
       "  <thead>\n",
       "    <tr style=\"text-align: right;\">\n",
       "      <th></th>\n",
       "      <th>season</th>\n",
       "      <th>yr</th>\n",
       "      <th>mnth</th>\n",
       "      <th>holiday</th>\n",
       "      <th>weekday</th>\n",
       "      <th>workingday</th>\n",
       "      <th>weathersit</th>\n",
       "      <th>temp</th>\n",
       "      <th>hum</th>\n",
       "      <th>windspeed</th>\n",
       "      <th>cnt</th>\n",
       "      <th>days_since_2011</th>\n",
       "    </tr>\n",
       "  </thead>\n",
       "  <tbody>\n",
       "    <tr>\n",
       "      <th>0</th>\n",
       "      <td>WINTER</td>\n",
       "      <td>2011</td>\n",
       "      <td>JAN</td>\n",
       "      <td>NO HOLIDAY</td>\n",
       "      <td>SAT</td>\n",
       "      <td>NO WORKING DAY</td>\n",
       "      <td>MISTY</td>\n",
       "      <td>8.175849</td>\n",
       "      <td>80.5833</td>\n",
       "      <td>10.749882</td>\n",
       "      <td>985</td>\n",
       "      <td>0</td>\n",
       "    </tr>\n",
       "    <tr>\n",
       "      <th>1</th>\n",
       "      <td>WINTER</td>\n",
       "      <td>2011</td>\n",
       "      <td>JAN</td>\n",
       "      <td>NO HOLIDAY</td>\n",
       "      <td>SUN</td>\n",
       "      <td>NO WORKING DAY</td>\n",
       "      <td>MISTY</td>\n",
       "      <td>9.083466</td>\n",
       "      <td>69.6087</td>\n",
       "      <td>16.652113</td>\n",
       "      <td>801</td>\n",
       "      <td>1</td>\n",
       "    </tr>\n",
       "    <tr>\n",
       "      <th>2</th>\n",
       "      <td>WINTER</td>\n",
       "      <td>2011</td>\n",
       "      <td>JAN</td>\n",
       "      <td>NO HOLIDAY</td>\n",
       "      <td>MON</td>\n",
       "      <td>WORKING DAY</td>\n",
       "      <td>GOOD</td>\n",
       "      <td>1.229108</td>\n",
       "      <td>43.7273</td>\n",
       "      <td>16.636703</td>\n",
       "      <td>1349</td>\n",
       "      <td>2</td>\n",
       "    </tr>\n",
       "    <tr>\n",
       "      <th>3</th>\n",
       "      <td>WINTER</td>\n",
       "      <td>2011</td>\n",
       "      <td>JAN</td>\n",
       "      <td>NO HOLIDAY</td>\n",
       "      <td>TUE</td>\n",
       "      <td>WORKING DAY</td>\n",
       "      <td>GOOD</td>\n",
       "      <td>1.400000</td>\n",
       "      <td>59.0435</td>\n",
       "      <td>10.739832</td>\n",
       "      <td>1562</td>\n",
       "      <td>3</td>\n",
       "    </tr>\n",
       "    <tr>\n",
       "      <th>4</th>\n",
       "      <td>WINTER</td>\n",
       "      <td>2011</td>\n",
       "      <td>JAN</td>\n",
       "      <td>NO HOLIDAY</td>\n",
       "      <td>WED</td>\n",
       "      <td>WORKING DAY</td>\n",
       "      <td>GOOD</td>\n",
       "      <td>2.666979</td>\n",
       "      <td>43.6957</td>\n",
       "      <td>12.522300</td>\n",
       "      <td>1600</td>\n",
       "      <td>4</td>\n",
       "    </tr>\n",
       "    <tr>\n",
       "      <th>...</th>\n",
       "      <td>...</td>\n",
       "      <td>...</td>\n",
       "      <td>...</td>\n",
       "      <td>...</td>\n",
       "      <td>...</td>\n",
       "      <td>...</td>\n",
       "      <td>...</td>\n",
       "      <td>...</td>\n",
       "      <td>...</td>\n",
       "      <td>...</td>\n",
       "      <td>...</td>\n",
       "      <td>...</td>\n",
       "    </tr>\n",
       "    <tr>\n",
       "      <th>726</th>\n",
       "      <td>WINTER</td>\n",
       "      <td>2012</td>\n",
       "      <td>DEC</td>\n",
       "      <td>NO HOLIDAY</td>\n",
       "      <td>THU</td>\n",
       "      <td>WORKING DAY</td>\n",
       "      <td>MISTY</td>\n",
       "      <td>3.945849</td>\n",
       "      <td>65.2917</td>\n",
       "      <td>23.458911</td>\n",
       "      <td>2114</td>\n",
       "      <td>726</td>\n",
       "    </tr>\n",
       "    <tr>\n",
       "      <th>727</th>\n",
       "      <td>WINTER</td>\n",
       "      <td>2012</td>\n",
       "      <td>DEC</td>\n",
       "      <td>NO HOLIDAY</td>\n",
       "      <td>FRI</td>\n",
       "      <td>WORKING DAY</td>\n",
       "      <td>MISTY</td>\n",
       "      <td>3.906651</td>\n",
       "      <td>59.0000</td>\n",
       "      <td>10.416557</td>\n",
       "      <td>3095</td>\n",
       "      <td>727</td>\n",
       "    </tr>\n",
       "    <tr>\n",
       "      <th>728</th>\n",
       "      <td>WINTER</td>\n",
       "      <td>2012</td>\n",
       "      <td>DEC</td>\n",
       "      <td>NO HOLIDAY</td>\n",
       "      <td>SAT</td>\n",
       "      <td>NO WORKING DAY</td>\n",
       "      <td>MISTY</td>\n",
       "      <td>3.906651</td>\n",
       "      <td>75.2917</td>\n",
       "      <td>8.333661</td>\n",
       "      <td>1341</td>\n",
       "      <td>728</td>\n",
       "    </tr>\n",
       "    <tr>\n",
       "      <th>729</th>\n",
       "      <td>WINTER</td>\n",
       "      <td>2012</td>\n",
       "      <td>DEC</td>\n",
       "      <td>NO HOLIDAY</td>\n",
       "      <td>SUN</td>\n",
       "      <td>NO WORKING DAY</td>\n",
       "      <td>GOOD</td>\n",
       "      <td>4.024151</td>\n",
       "      <td>48.3333</td>\n",
       "      <td>23.500518</td>\n",
       "      <td>1796</td>\n",
       "      <td>729</td>\n",
       "    </tr>\n",
       "    <tr>\n",
       "      <th>730</th>\n",
       "      <td>WINTER</td>\n",
       "      <td>2012</td>\n",
       "      <td>DEC</td>\n",
       "      <td>NO HOLIDAY</td>\n",
       "      <td>MON</td>\n",
       "      <td>WORKING DAY</td>\n",
       "      <td>MISTY</td>\n",
       "      <td>2.144151</td>\n",
       "      <td>57.7500</td>\n",
       "      <td>10.374682</td>\n",
       "      <td>2729</td>\n",
       "      <td>730</td>\n",
       "    </tr>\n",
       "  </tbody>\n",
       "</table>\n",
       "<p>731 rows × 12 columns</p>\n",
       "</div>"
      ],
      "text/plain": [
       "     season    yr mnth     holiday weekday      workingday weathersit  \\\n",
       "0    WINTER  2011  JAN  NO HOLIDAY     SAT  NO WORKING DAY      MISTY   \n",
       "1    WINTER  2011  JAN  NO HOLIDAY     SUN  NO WORKING DAY      MISTY   \n",
       "2    WINTER  2011  JAN  NO HOLIDAY     MON     WORKING DAY       GOOD   \n",
       "3    WINTER  2011  JAN  NO HOLIDAY     TUE     WORKING DAY       GOOD   \n",
       "4    WINTER  2011  JAN  NO HOLIDAY     WED     WORKING DAY       GOOD   \n",
       "..      ...   ...  ...         ...     ...             ...        ...   \n",
       "726  WINTER  2012  DEC  NO HOLIDAY     THU     WORKING DAY      MISTY   \n",
       "727  WINTER  2012  DEC  NO HOLIDAY     FRI     WORKING DAY      MISTY   \n",
       "728  WINTER  2012  DEC  NO HOLIDAY     SAT  NO WORKING DAY      MISTY   \n",
       "729  WINTER  2012  DEC  NO HOLIDAY     SUN  NO WORKING DAY       GOOD   \n",
       "730  WINTER  2012  DEC  NO HOLIDAY     MON     WORKING DAY      MISTY   \n",
       "\n",
       "         temp      hum  windspeed   cnt  days_since_2011  \n",
       "0    8.175849  80.5833  10.749882   985                0  \n",
       "1    9.083466  69.6087  16.652113   801                1  \n",
       "2    1.229108  43.7273  16.636703  1349                2  \n",
       "3    1.400000  59.0435  10.739832  1562                3  \n",
       "4    2.666979  43.6957  12.522300  1600                4  \n",
       "..        ...      ...        ...   ...              ...  \n",
       "726  3.945849  65.2917  23.458911  2114              726  \n",
       "727  3.906651  59.0000  10.416557  3095              727  \n",
       "728  3.906651  75.2917   8.333661  1341              728  \n",
       "729  4.024151  48.3333  23.500518  1796              729  \n",
       "730  2.144151  57.7500  10.374682  2729              730  \n",
       "\n",
       "[731 rows x 12 columns]"
      ]
     },
     "metadata": {},
     "output_type": "display_data"
    }
   ],
   "source": [
    "display(bikes_df)"
   ]
  },
  {
   "cell_type": "markdown",
   "id": "f766ab1a-7877-433a-82c1-bf40d48bf0db",
   "metadata": {},
   "source": [
    "Now persist this data in HANA table database using the same [`create_dataframe_from_pandas` method](https://help.sap.com/doc/cd94b08fe2e041c2ba778374572ddba9/2022_4_QRC/en-US/hana_ml.dataframe.html#hana_ml.dataframe.create_dataframe_from_pandas) from `hana_ml` as before."
   ]
  },
  {
   "cell_type": "code",
   "execution_count": 48,
   "id": "2157e623-b9bb-4574-a28c-15ccd4dceaff",
   "metadata": {},
   "outputs": [
    {
     "name": "stderr",
     "output_type": "stream",
     "text": [
      "100%|█████████████████████████████████████████████| 1/1 [00:00<00:00,  2.23it/s]\n"
     ]
    }
   ],
   "source": [
    "bikes_hdf = hdf.create_dataframe_from_pandas(connection_context=myconn,\n",
    "                                      pandas_df=bikes_df,\n",
    "                                      table_name='BIKES',\n",
    "                                      primary_key='days_since_2011',\n",
    "                                      force=True\n",
    "                                     )"
   ]
  },
  {
   "cell_type": "markdown",
   "id": "57881c93-6ba9-469f-a937-aa57ca50811f",
   "metadata": {},
   "source": [
    "The type of a `bikes_hdf` object returned from the `create_dataframe_from_pandas` method is a HANA DataFrame..."
   ]
  },
  {
   "cell_type": "code",
   "execution_count": 51,
   "id": "f626d2c1-4ad7-41a8-8acb-d4354864bb1b",
   "metadata": {},
   "outputs": [
    {
     "data": {
      "text/plain": [
       "hana_ml.dataframe.DataFrame"
      ]
     },
     "execution_count": 51,
     "metadata": {},
     "output_type": "execute_result"
    }
   ],
   "source": [
    "type(bikes_hdf)"
   ]
  },
  {
   "cell_type": "markdown",
   "id": "addc2581-074e-47f1-a2aa-730f7f91f206",
   "metadata": {},
   "source": [
    "...and a SELECT statement that supports this HANA DataFrame"
   ]
  },
  {
   "cell_type": "code",
   "execution_count": 53,
   "id": "0362d4c9-4634-4991-ba78-5a14f9ff92aa",
   "metadata": {},
   "outputs": [
    {
     "name": "stdout",
     "output_type": "stream",
     "text": [
      "All 731 records: [('WINTER', 2011, 'JAN', 'NO HOLIDAY', 'SAT', 'NO WORKING DAY', 'MISTY', 8.175849, 80.5833, 10.749882, 985, 0), ('WINTER', 2011, 'JAN', 'NO HOLIDAY', 'SUN', 'NO WORKING DAY', 'MISTY', 9.083466, 69.6087, 16.652113, 801, 1), ('WINTER', 2011, 'JAN', 'NO HOLIDAY', 'MON', 'WORKING DAY', 'GOOD', 1.229108, 43.7273, 16.636703, 1349, 2), ('WINTER', 2011, 'JAN', 'NO HOLIDAY', 'TUE', 'WORKING DAY', 'GOOD', 1.4, 59.0435, 10.739832, 1562, 3), ('WINTER', 2011, 'JAN', 'NO HOLIDAY', 'WED', 'WORKING DAY', 'GOOD', 2.666979, 43.6957, 12.5223, 1600, 4), ('WINTER', 2011, 'JAN', 'NO HOLIDAY', 'THU', 'WORKING DAY', 'GOOD', 1.604356, 51.8261, 6.0008684, 1606, 5), ('WINTER', 2011, 'JAN', 'NO HOLIDAY', 'FRI', 'WORKING DAY', 'MISTY', 1.236534, 49.8696, 11.304642, 1510, 6), ('WINTER', 2011, 'JAN', 'NO HOLIDAY', 'SAT', 'NO WORKING DAY', 'MISTY', -0.244999999999999, 53.5833, 17.875868, 959, 7), ('WINTER', 2011, 'JAN', 'NO HOLIDAY', 'SUN', 'NO WORKING DAY', 'GOOD', -1.498349, 43.4167, 24.25065, 822, 8), ('WINTER', 2011, 'JAN', 'NO HOLIDAY', 'MON', 'WORKING DAY', 'GOOD', -0.910849000000001, 48.2917, 14.958889, 1321, 9), ('WINTER', 2011, 'JAN', 'NO HOLIDAY', 'TUE', 'WORKING DAY', 'MISTY', -0.0527230000000003, 68.6364, 8.182844, 1263, 10), ('WINTER', 2011, 'JAN', 'NO HOLIDAY', 'WED', 'WORKING DAY', 'GOOD', 0.118169, 59.9545, 20.410009, 1162, 11), ('WINTER', 2011, 'JAN', 'NO HOLIDAY', 'THU', 'WORKING DAY', 'GOOD', -0.244999999999999, 47.0417, 20.167, 1406, 12), ('WINTER', 2011, 'JAN', 'NO HOLIDAY', 'FRI', 'WORKING DAY', 'GOOD', -0.439109999999999, 53.7826, 8.478716, 1421, 13), ('WINTER', 2011, 'JAN', 'NO HOLIDAY', 'SAT', 'NO WORKING DAY', 'MISTY', 2.966651, 49.875, 10.583521, 1248, 14), ('WINTER', 2011, 'JAN', 'NO HOLIDAY', 'SUN', 'NO WORKING DAY', 'GOOD', 2.888349, 48.375, 12.625011, 1204, 15), ('WINTER', 2011, 'JAN', 'HOLIDAY', 'MON', 'NO WORKING DAY', 'MISTY', 0.264151, 53.75, 12.999139, 1000, 16), ('WINTER', 2011, 'JAN', 'NO HOLIDAY', 'TUE', 'WORKING DAY', 'MISTY', 2.183349, 86.1667, 9.833925, 683, 17), ('WINTER', 2011, 'JAN', 'NO HOLIDAY', 'WED', 'WORKING DAY', 'MISTY', 5.732178, 74.1739, 13.957239, 1650, 18), ('WINTER', 2011, 'JAN', 'NO HOLIDAY', 'THU', 'WORKING DAY', 'MISTY', 4.298349, 53.8333, 13.125568, 1927, 19), ('WINTER', 2011, 'JAN', 'NO HOLIDAY', 'FRI', 'WORKING DAY', 'GOOD', 0.342499999999999, 45.7083, 23.667214, 1543, 20), ('WINTER', 2011, 'JAN', 'NO HOLIDAY', 'SAT', 'NO WORKING DAY', 'GOOD', -5.2208712, 40.0, 11.52199, 981, 21), ('WINTER', 2011, 'JAN', 'NO HOLIDAY', 'SUN', 'NO WORKING DAY', 'GOOD', -3.4634801, 43.6522, 16.5222, 986, 22), ('WINTER', 2011, 'JAN', 'NO HOLIDAY', 'MON', 'WORKING DAY', 'GOOD', -3.4226089, 49.1739, 10.60811, 1416, 23), ('WINTER', 2011, 'JAN', 'NO HOLIDAY', 'TUE', 'WORKING DAY', 'MISTY', 2.503466, 61.6957, 8.696332, 1985, 24), ('WINTER', 2011, 'JAN', 'NO HOLIDAY', 'WED', 'WORKING DAY', 'RAIN/SNOW/STORM', 2.2225, 86.25, 19.68795, 506, 25), ('WINTER', 2011, 'JAN', 'NO HOLIDAY', 'THU', 'WORKING DAY', 'GOOD', 1.165, 68.75, 7.627079, 431, 26), ('WINTER', 2011, 'JAN', 'NO HOLIDAY', 'FRI', 'WORKING DAY', 'MISTY', 1.563466, 79.3043, 8.2611, 1167, 27), ('WINTER', 2011, 'JAN', 'NO HOLIDAY', 'SAT', 'NO WORKING DAY', 'GOOD', 1.236534, 65.1739, 9.739455, 1098, 28), ('WINTER', 2011, 'JAN', 'NO HOLIDAY', 'SUN', 'NO WORKING DAY', 'GOOD', 2.176534, 72.2174, 4.9568342, 1096, 29), ('WINTER', 2011, 'JAN', 'NO HOLIDAY', 'MON', 'WORKING DAY', 'MISTY', 0.499150999999999, 60.375, 12.541864, 1501, 30), ('WINTER', 2011, 'FEB', 'NO HOLIDAY', 'TUE', 'WORKING DAY', 'MISTY', 1.032178, 82.9565, 3.565271, 1360, 31), ('WINTER', 2011, 'FEB', 'NO HOLIDAY', 'WED', 'WORKING DAY', 'MISTY', 4.22, 77.5417, 17.708636, 1526, 32), ('WINTER', 2011, 'FEB', 'NO HOLIDAY', 'THU', 'WORKING DAY', 'GOOD', 0.786979000000001, 43.7826, 18.609384, 1550, 33), ('WINTER', 2011, 'FEB', 'NO HOLIDAY', 'FRI', 'WORKING DAY', 'MISTY', 1.931288, 58.5217, 8.565213, 1708, 34), ('WINTER', 2011, 'FEB', 'NO HOLIDAY', 'SAT', 'NO WORKING DAY', 'MISTY', 2.966651, 92.9167, 10.792293, 1005, 35), ('WINTER', 2011, 'FEB', 'NO HOLIDAY', 'SUN', 'NO WORKING DAY', 'GOOD', 5.434151, 56.8333, 9.5006, 1623, 36), ('WINTER', 2011, 'FEB', 'NO HOLIDAY', 'MON', 'WORKING DAY', 'GOOD', 4.768349, 73.8333, 3.0423561, 1712, 37), ('WINTER', 2011, 'FEB', 'NO HOLIDAY', 'TUE', 'WORKING DAY', 'GOOD', 2.379151, 53.7917, 24.25065, 1530, 38), ('WINTER', 2011, 'FEB', 'NO HOLIDAY', 'WED', 'WORKING DAY', 'MISTY', -1.665199, 49.4783, 12.652213, 1605, 39), ('WINTER', 2011, 'FEB', 'NO HOLIDAY', 'THU', 'WORKING DAY', 'GOOD', -1.215644, 43.7391, 14.869645, 1538, 40), ('WINTER', 2011, 'FEB', 'NO HOLIDAY', 'FRI', 'WORKING DAY', 'GOOD', 0.887277000000001, 50.6364, 7.27285, 1746, 41), ('WINTER', 2011, 'FEB', 'NO HOLIDAY', 'SAT', 'NO WORKING DAY', 'GOOD', 2.4575, 54.4167, 13.625589, 1472, 42), ('WINTER', 2011, 'FEB', 'NO HOLIDAY', 'SUN', 'NO WORKING DAY', 'GOOD', 6.876534, 45.7391, 17.479161, 1589, 43), ('WINTER', 2011, 'FEB', 'NO HOLIDAY', 'MON', 'WORKING DAY', 'GOOD', 11.505, 37.5833, 27.999836, 1913, 44), ('WINTER', 2011, 'FEB', 'NO HOLIDAY', 'TUE', 'WORKING DAY', 'GOOD', 4.506089, 31.4348, 19.522058, 1815, 45), ('WINTER', 2011, 'FEB', 'NO HOLIDAY', 'WED', 'WORKING DAY', 'GOOD', 6.958267, 42.3478, 16.869997, 2115, 46), ('WINTER', 2011, 'FEB', 'NO HOLIDAY', 'THU', 'WORKING DAY', 'GOOD', 12.484151, 50.5, 15.416968, 2475, 47), ('WINTER', 2011, 'FEB', 'NO HOLIDAY', 'FRI', 'WORKING DAY', 'GOOD', 16.518349, 51.6667, 17.749975, 2927, 48), ('WINTER', 2011, 'FEB', 'NO HOLIDAY', 'SAT', 'NO WORKING DAY', 'GOOD', 10.760849, 18.7917, 34.000021, 1635, 49), ('WINTER', 2011, 'FEB', 'NO HOLIDAY', 'SUN', 'NO WORKING DAY', 'GOOD', 5.405199, 40.7826, 14.956745, 1812, 50), ('WINTER', 2011, 'FEB', 'HOLIDAY', 'MON', 'NO WORKING DAY', 'MISTY', 6.256651, 60.5, 20.625682, 1107, 51), ('WINTER', 2011, 'FEB', 'NO HOLIDAY', 'TUE', 'WORKING DAY', 'GOOD', 0.564434, 57.7778, 13.110761, 1450, 52), ('WINTER', 2011, 'FEB', 'NO HOLIDAY', 'WED', 'WORKING DAY', 'GOOD', 2.421733, 42.3043, 6.305571, 1917, 53), ('WINTER', 2011, 'FEB', 'NO HOLIDAY', 'THU', 'WORKING DAY', 'MISTY', 5.895644, 69.7391, 16.783232, 1807, 54), ('WINTER', 2011, 'FEB', 'NO HOLIDAY', 'FRI', 'WORKING DAY', 'MISTY', 9.124356, 71.2174, 23.218113, 1461, 55), ('WINTER', 2011, 'FEB', 'NO HOLIDAY', 'SAT', 'NO WORKING DAY', 'GOOD', 5.2775, 53.7917, 12.500257, 1969, 56), ('WINTER', 2011, 'FEB', 'NO HOLIDAY', 'SUN', 'NO WORKING DAY', 'GOOD', 8.143466, 68.0, 8.391616, 2402, 57), ('WINTER', 2011, 'FEB', 'NO HOLIDAY', 'MON', 'WORKING DAY', 'MISTY', 11.141831, 87.6364, 19.408962, 1446, 58), ('WINTER', 2011, 'MAR', 'NO HOLIDAY', 'TUE', 'WORKING DAY', 'GOOD', 4.533349, 53.5, 14.500475, 1851, 59), ('WINTER', 2011, 'MAR', 'NO HOLIDAY', 'WED', 'WORKING DAY', 'GOOD', 7.745, 44.9583, 20.624811, 2134, 60), ('WINTER', 2011, 'MAR', 'NO HOLIDAY', 'THU', 'WORKING DAY', 'GOOD', 1.321651, 31.8333, 15.125518, 1685, 61), ('WINTER', 2011, 'MAR', 'NO HOLIDAY', 'FRI', 'WORKING DAY', 'MISTY', 4.298349, 61.0417, 13.624182, 1944, 62), ('WINTER', 2011, 'MAR', 'NO HOLIDAY', 'SAT', 'NO WORKING DAY', 'MISTY', 10.055849, 78.9167, 16.875357, 2077, 63), ('WINTER', 2011, 'MAR', 'NO HOLIDAY', 'SUN', 'NO WORKING DAY', 'MISTY', 9.696534, 94.8261, 23.000229, 605, 64), ('WINTER', 2011, 'MAR', 'NO HOLIDAY', 'MON', 'WORKING DAY', 'GOOD', 4.301733, 55.1304, 22.870584, 1872, 65), ('WINTER', 2011, 'MAR', 'NO HOLIDAY', 'TUE', 'WORKING DAY', 'GOOD', 5.7475, 42.0833, 8.08355, 2133, 66), ('WINTER', 2011, 'MAR', 'NO HOLIDAY', 'WED', 'WORKING DAY', 'MISTY', 5.904151, 77.5417, 14.75005, 1891, 67), ('WINTER', 2011, 'MAR', 'NO HOLIDAY', 'THU', 'WORKING DAY', 'RAIN/SNOW/STORM', 10.287277, 0.0, 17.545759, 623, 68), ('WINTER', 2011, 'MAR', 'NO HOLIDAY', 'FRI', 'WORKING DAY', 'MISTY', 6.876534, 64.9565, 15.60899, 1977, 69), ('WINTER', 2011, 'MAR', 'NO HOLIDAY', 'SAT', 'NO WORKING DAY', 'GOOD', 7.470849, 59.4583, 14.791925, 2132, 70), ('WINTER', 2011, 'MAR', 'NO HOLIDAY', 'SUN', 'NO WORKING DAY', 'GOOD', 10.064356, 52.7391, 18.130468, 2417, 71), ('WINTER', 2011, 'MAR', 'NO HOLIDAY', 'MON', 'WORKING DAY', 'GOOD', 7.285199, 49.6957, 9.174042, 2046, 72), ('WINTER', 2011, 'MAR', 'NO HOLIDAY', 'TUE', 'WORKING DAY', 'MISTY', 6.917377, 65.5652, 12.348703, 2056, 73), ('WINTER', 2011, 'MAR', 'NO HOLIDAY', 'WED', 'WORKING DAY', 'MISTY', 9.165199, 77.6522, 13.608839, 2192, 74), ('WINTER', 2011, 'MAR', 'NO HOLIDAY', 'THU', 'WORKING DAY', 'GOOD', 11.505, 60.2917, 14.041793, 2744, 75), ('WINTER', 2011, 'MAR', 'NO HOLIDAY', 'FRI', 'WORKING DAY', 'GOOD', 17.38, 52.5217, 15.478139, 3239, 76), ('WINTER', 2011, 'MAR', 'NO HOLIDAY', 'SAT', 'NO WORKING DAY', 'GOOD', 14.2075, 37.9167, 24.667189, 3117, 77), ('WINTER', 2011, 'MAR', 'NO HOLIDAY', 'SUN', 'NO WORKING DAY', 'GOOD', 7.6275, 47.375, 13.917307, 2471, 78), ('SPRING', 2011, 'MAR', 'NO HOLIDAY', 'MON', 'WORKING DAY', 'MISTY', 12.230445, 73.7391, 19.348461, 2077, 79), ('SPRING', 2011, 'MAR', 'NO HOLIDAY', 'TUE', 'WORKING DAY', 'GOOD', 12.758349, 62.4583, 15.12525, 2703, 80), ('SPRING', 2011, 'MAR', 'NO HOLIDAY', 'WED', 'WORKING DAY', 'MISTY', 8.306979, 83.9565, 15.695487, 2121, 81), ('SPRING', 2011, 'MAR', 'NO HOLIDAY', 'THU', 'WORKING DAY', 'MISTY', 5.395, 80.5833, 16.333729, 1865, 82), ('SPRING', 2011, 'MAR', 'NO HOLIDAY', 'FRI', 'WORKING DAY', 'GOOD', 4.415849, 49.5, 15.458575, 2210, 83), ('SPRING', 2011, 'MAR', 'NO HOLIDAY', 'SAT', 'NO WORKING DAY', 'GOOD', 4.494151, 39.4167, 14.041257, 2496, 84), ('SPRING', 2011, 'MAR', 'NO HOLIDAY', 'SUN', 'NO WORKING DAY', 'MISTY', 3.893021, 49.3913, 12.3481, 1693, 85), ('SPRING', 2011, 'MAR', 'NO HOLIDAY', 'MON', 'WORKING DAY', 'GOOD', 4.424356, 30.2174, 14.217668, 2028, 86), ('SPRING', 2011, 'MAR', 'NO HOLIDAY', 'TUE', 'WORKING DAY', 'GOOD', 6.2175, 31.4167, 15.208732, 2425, 87), ('SPRING', 2011, 'MAR', 'NO HOLIDAY', 'WED', 'WORKING DAY', 'MISTY', 6.1, 64.6667, 11.583496, 1536, 88), ('SPRING', 2011, 'MAR', 'NO HOLIDAY', 'THU', 'WORKING DAY', 'RAIN/SNOW/STORM', 4.611651, 91.8333, 14.582282, 1685, 89), ('SPRING', 2011, 'APR', 'NO HOLIDAY', 'FRI', 'WORKING DAY', 'MISTY', 6.1, 68.625, 17.333436, 2227, 90), ('SPRING', 2011, 'APR', 'NO HOLIDAY', 'SAT', 'NO WORKING DAY', 'MISTY', 6.805, 65.375, 13.208782, 2252, 91), ('SPRING', 2011, 'APR', 'NO HOLIDAY', 'SUN', 'NO WORKING DAY', 'GOOD', 9.781651, 48.0, 12.208271, 3249, 92), ('SPRING', 2011, 'APR', 'NO HOLIDAY', 'MON', 'WORKING DAY', 'GOOD', 18.946651, 42.625, 25.833257, 3115, 93), ('SPRING', 2011, 'APR', 'NO HOLIDAY', 'TUE', 'WORKING DAY', 'MISTY', 11.465849, 64.2083, 26.000489, 1795, 94), ('SPRING', 2011, 'APR', 'NO HOLIDAY', 'WED', 'WORKING DAY', 'GOOD', 10.369151, 47.0833, 17.625221, 2808, 95), ('SPRING', 2011, 'APR', 'NO HOLIDAY', 'THU', 'WORKING DAY', 'GOOD', 12.5625, 60.2917, 10.874904, 3141, 96), ('SPRING', 2011, 'APR', 'NO HOLIDAY', 'FRI', 'WORKING DAY', 'MISTY', 7.784151, 83.625, 15.208464, 1471, 97), ('SPRING', 2011, 'APR', 'NO HOLIDAY', 'SAT', 'NO WORKING DAY', 'MISTY', 8.0975, 87.75, 8.916561, 2455, 98), ('SPRING', 2011, 'APR', 'NO HOLIDAY', 'SUN', 'NO WORKING DAY', 'MISTY', 12.053349, 85.75, 9.833389, 2895, 99), ('SPRING', 2011, 'APR', 'NO HOLIDAY', 'MON', 'WORKING DAY', 'MISTY', 19.995644, 71.6956, 21.739758, 3348, 100), ('SPRING', 2011, 'APR', 'NO HOLIDAY', 'TUE', 'WORKING DAY', 'MISTY', 15.6175, 73.9167, 18.416893, 2034, 101), ('SPRING', 2011, 'APR', 'NO HOLIDAY', 'WED', 'WORKING DAY', 'MISTY', 11.3875, 81.9167, 16.791339, 2162, 102), ('SPRING', 2011, 'APR', 'NO HOLIDAY', 'THU', 'WORKING DAY', 'GOOD', 13.9725, 54.0417, 7.4169, 3267, 103), ('SPRING', 2011, 'APR', 'HOLIDAY', 'FRI', 'NO WORKING DAY', 'GOOD', 12.993349, 67.125, 15.167125, 3126, 104), ('SPRING', 2011, 'APR', 'NO HOLIDAY', 'SAT', 'NO WORKING DAY', 'RAIN/SNOW/STORM', 12.249151, 88.8333, 22.834136, 795, 105), ('SPRING', 2011, 'APR', 'NO HOLIDAY', 'SUN', 'NO WORKING DAY', 'GOOD', 13.463349, 47.9583, 20.334232, 3744, 106), ('SPRING', 2011, 'APR', 'NO HOLIDAY', 'MON', 'WORKING DAY', 'GOOD', 16.0875, 54.25, 10.958989, 3429, 107), ('SPRING', 2011, 'APR', 'NO HOLIDAY', 'TUE', 'WORKING DAY', 'MISTY', 15.774151, 66.5833, 10.584057, 3204, 108), ('SPRING', 2011, 'APR', 'NO HOLIDAY', 'WED', 'WORKING DAY', 'GOOD', 19.965, 61.4167, 16.208975, 3944, 109), ('SPRING', 2011, 'APR', 'NO HOLIDAY', 'THU', 'WORKING DAY', 'GOOD', 13.580849, 40.7083, 21.792286, 4189, 110), ('SPRING', 2011, 'APR', 'NO HOLIDAY', 'FRI', 'WORKING DAY', 'MISTY', 7.823349, 72.9583, 14.707907, 1683, 111), ('SPRING', 2011, 'APR', 'NO HOLIDAY', 'SAT', 'NO WORKING DAY', 'MISTY', 13.62, 88.7917, 15.458575, 4036, 112), ('SPRING', 2011, 'APR', 'NO HOLIDAY', 'SUN', 'NO WORKING DAY', 'MISTY', 19.338349, 81.0833, 12.875725, 4191, 113), ('SPRING', 2011, 'APR', 'NO HOLIDAY', 'MON', 'WORKING DAY', 'GOOD', 20.513349, 77.6667, 12.417311, 4073, 114), ('SPRING', 2011, 'APR', 'NO HOLIDAY', 'TUE', 'WORKING DAY', 'GOOD', 21.688349, 72.9167, 21.8755, 4400, 115), ('SPRING', 2011, 'APR', 'NO HOLIDAY', 'WED', 'WORKING DAY', 'MISTY', 21.14, 83.5417, 20.9174, 3872, 116), ('SPRING', 2011, 'APR', 'NO HOLIDAY', 'THU', 'WORKING DAY', 'MISTY', 21.0225, 70.0833, 21.500836, 4058, 117), ('SPRING', 2011, 'APR', 'NO HOLIDAY', 'FRI', 'WORKING DAY', 'GOOD', 15.97, 45.7083, 16.084221, 4595, 118), ('SPRING', 2011, 'APR', 'NO HOLIDAY', 'SAT', 'NO WORKING DAY', 'GOOD', 14.2075, 50.3333, 15.750025, 5312, 119), ('SPRING', 2011, 'MAY', 'NO HOLIDAY', 'SUN', 'NO WORKING DAY', 'MISTY', 13.228349, 76.2083, 7.125718, 3351, 120), ('SPRING', 2011, 'MAY', 'NO HOLIDAY', 'MON', 'WORKING DAY', 'MISTY', 17.810849, 73.0, 12.291418, 4401, 121), ('SPRING', 2011, 'MAY', 'NO HOLIDAY', 'TUE', 'WORKING DAY', 'MISTY', 20.983349, 69.7083, 22.958689, 4451, 122), ('SPRING', 2011, 'MAY', 'NO HOLIDAY', 'WED', 'WORKING DAY', 'MISTY', 11.465849, 73.7083, 22.042732, 2633, 123), ('SPRING', 2011, 'MAY', 'NO HOLIDAY', 'THU', 'WORKING DAY', 'GOOD', 13.580849, 44.4167, 19.791264, 4433, 124), ('SPRING', 2011, 'MAY', 'NO HOLIDAY', 'FRI', 'WORKING DAY', 'GOOD', 14.520849, 59.0, 15.292482, 4608, 125), ('SPRING', 2011, 'MAY', 'NO HOLIDAY', 'SAT', 'NO WORKING DAY', 'GOOD', 16.44, 54.125, 10.75015, 4714, 126), ('SPRING', 2011, 'MAY', 'NO HOLIDAY', 'SUN', 'NO WORKING DAY', 'GOOD', 16.831651, 63.1667, 5.0007125, 4333, 127), ('SPRING', 2011, 'MAY', 'NO HOLIDAY', 'MON', 'WORKING DAY', 'GOOD', 17.0275, 58.875, 11.792, 4362, 128), ('SPRING', 2011, 'MAY', 'NO HOLIDAY', 'TUE', 'WORKING DAY', 'GOOD', 17.0275, 48.9167, 7.749957, 4803, 129), ('SPRING', 2011, 'MAY', 'NO HOLIDAY', 'WED', 'WORKING DAY', 'GOOD', 17.4975, 63.2917, 8.083014, 4182, 130), ('SPRING', 2011, 'MAY', 'NO HOLIDAY', 'THU', 'WORKING DAY', 'GOOD', 17.145, 74.75, 12.707689, 4864, 131), ('SPRING', 2011, 'MAY', 'NO HOLIDAY', 'FRI', 'WORKING DAY', 'MISTY', 16.0875, 86.3333, 12.041575, 4105, 132), ('SPRING', 2011, 'MAY', 'NO HOLIDAY', 'SAT', 'NO WORKING DAY', 'MISTY', 16.479151, 92.25, 9.04165, 3409, 133), ('SPRING', 2011, 'MAY', 'NO HOLIDAY', 'SUN', 'NO WORKING DAY', 'MISTY', 18.4375, 86.7083, 10.249593, 4553, 134), ('SPRING', 2011, 'MAY', 'NO HOLIDAY', 'MON', 'WORKING DAY', 'GOOD', 19.1425, 78.7917, 8.500357, 3958, 135), ('SPRING', 2011, 'MAY', 'NO HOLIDAY', 'TUE', 'WORKING DAY', 'MISTY', 18.398349, 83.7917, 18.582718, 4123, 136), ('SPRING', 2011, 'MAY', 'NO HOLIDAY', 'WED', 'WORKING DAY', 'MISTY', 17.85, 87.0, 13.499964, 3855, 137), ('SPRING', 2011, 'MAY', 'NO HOLIDAY', 'THU', 'WORKING DAY', 'MISTY', 16.949151, 82.9583, 7.250271, 4575, 138), ('SPRING', 2011, 'MAY', 'NO HOLIDAY', 'FRI', 'WORKING DAY', 'GOOD', 17.223349, 71.9583, 8.375871, 4917, 139), ('SPRING', 2011, 'MAY', 'NO HOLIDAY', 'SAT', 'NO WORKING DAY', 'GOOD', 20.3175, 62.6667, 8.08355, 5805, 140), ('SPRING', 2011, 'MAY', 'NO HOLIDAY', 'SUN', 'NO WORKING DAY', 'GOOD', 20.395849, 74.9583, 9.916536, 4660, 141), ('SPRING', 2011, 'MAY', 'NO HOLIDAY', 'MON', 'WORKING DAY', 'MISTY', 21.688349, 81.0, 15.667414, 4274, 142), ('SPRING', 2011, 'MAY', 'NO HOLIDAY', 'TUE', 'WORKING DAY', 'MISTY', 23.02, 74.0833, 13.875164, 4492, 143), ('SPRING', 2011, 'MAY', 'NO HOLIDAY', 'WED', 'WORKING DAY', 'GOOD', 23.059151, 69.625, 10.333611, 4978, 144), ('SPRING', 2011, 'MAY', 'NO HOLIDAY', 'THU', 'WORKING DAY', 'GOOD', 25.291651, 67.75, 13.376014, 4677, 145), ('SPRING', 2011, 'MAY', 'NO HOLIDAY', 'FRI', 'WORKING DAY', 'GOOD', 24.038349, 65.375, 16.125493, 4679, 146), ('SPRING', 2011, 'MAY', 'NO HOLIDAY', 'SAT', 'NO WORKING DAY', 'GOOD', 22.824151, 72.9583, 15.416164, 4758, 147), ('SPRING', 2011, 'MAY', 'NO HOLIDAY', 'SUN', 'NO WORKING DAY', 'GOOD', 23.3725, 81.875, 14.333846, 4788, 148), ('SPRING', 2011, 'MAY', 'HOLIDAY', 'MON', 'NO WORKING DAY', 'GOOD', 26.466651, 68.5, 8.792075, 4098, 149), ('SPRING', 2011, 'MAY', 'NO HOLIDAY', 'TUE', 'WORKING DAY', 'GOOD', 28.425, 63.6667, 7.459043, 3982, 150), ('SPRING', 2011, 'JUN', 'NO HOLIDAY', 'WED', 'WORKING DAY', 'MISTY', 27.915849, 67.7083, 13.875164, 3974, 151), ('SPRING', 2011, 'JUN', 'NO HOLIDAY', 'THU', 'WORKING DAY', 'GOOD', 25.605, 30.5, 19.583229, 4968, 152), ('SPRING', 2011, 'JUN', 'NO HOLIDAY', 'FRI', 'WORKING DAY', 'GOOD', 21.14, 35.4167, 16.959107, 5312, 153), ('SPRING', 2011, 'JUN', 'NO HOLIDAY', 'SAT', 'NO WORKING DAY', 'GOOD', 21.845, 45.625, 8.250514, 5342, 154), ('SPRING', 2011, 'JUN', 'NO HOLIDAY', 'SUN', 'NO WORKING DAY', 'MISTY', 22.471651, 65.25, 9.292364, 4906, 155), ('SPRING', 2011, 'JUN', 'NO HOLIDAY', 'MON', 'WORKING DAY', 'GOOD', 23.881651, 60.0, 8.167032, 4548, 156), ('SPRING', 2011, 'JUN', 'NO HOLIDAY', 'TUE', 'WORKING DAY', 'GOOD', 25.2525, 59.7917, 12.583136, 4833, 157), ('SPRING', 2011, 'JUN', 'NO HOLIDAY', 'WED', 'WORKING DAY', 'GOOD', 28.464151, 62.2083, 9.166739, 4401, 158), ('SPRING', 2011, 'JUN', 'NO HOLIDAY', 'THU', 'WORKING DAY', 'MISTY', 29.991651, 56.8333, 10.042161, 3915, 159), ('SPRING', 2011, 'JUN', 'NO HOLIDAY', 'FRI', 'WORKING DAY', 'GOOD', 27.485, 60.5, 9.417118, 4586, 160), ('SPRING', 2011, 'JUN', 'NO HOLIDAY', 'SAT', 'NO WORKING DAY', 'GOOD', 26.075, 65.4583, 10.37495, 4966, 161), ('SPRING', 2011, 'JUN', 'NO HOLIDAY', 'SUN', 'NO WORKING DAY', 'GOOD', 24.5475, 74.7917, 10.958989, 4460, 162), ('SPRING', 2011, 'JUN', 'NO HOLIDAY', 'MON', 'WORKING DAY', 'GOOD', 21.845, 49.4583, 20.45845, 5020, 163), ('SPRING', 2011, 'JUN', 'NO HOLIDAY', 'TUE', 'WORKING DAY', 'GOOD', 20.395849, 50.7083, 18.041961, 4891, 164), ('SPRING', 2011, 'JUN', 'NO HOLIDAY', 'WED', 'WORKING DAY', 'GOOD', 21.453349, 47.1667, 11.250104, 5180, 165), ('SPRING', 2011, 'JUN', 'NO HOLIDAY', 'THU', 'WORKING DAY', 'MISTY', 21.531651, 68.8333, 13.833557, 3767, 166), ('SPRING', 2011, 'JUN', 'NO HOLIDAY', 'FRI', 'WORKING DAY', 'GOOD', 22.510849, 73.5833, 9.582943, 4844, 167), ('SPRING', 2011, 'JUN', 'NO HOLIDAY', 'SAT', 'NO WORKING DAY', 'GOOD', 24.743349, 67.0417, 8.000336, 5119, 168), ('SPRING', 2011, 'JUN', 'NO HOLIDAY', 'SUN', 'NO WORKING DAY', 'MISTY', 24.860849, 66.6667, 6.834, 4744, 169), ('SPRING', 2011, 'JUN', 'NO HOLIDAY', 'MON', 'WORKING DAY', 'MISTY', 21.845, 74.625, 10.416825, 4010, 170), ('SUMMER', 2011, 'JUN', 'NO HOLIDAY', 'TUE', 'WORKING DAY', 'MISTY', 23.999151, 77.0417, 11.458675, 4835, 171), ('SUMMER', 2011, 'JUN', 'NO HOLIDAY', 'WED', 'WORKING DAY', 'GOOD', 26.466651, 70.75, 11.541554, 4507, 172), ('SUMMER', 2011, 'JUN', 'NO HOLIDAY', 'THU', 'WORKING DAY', 'MISTY', 26.231651, 70.3333, 15.999868, 4790, 173), ('SUMMER', 2011, 'JUN', 'NO HOLIDAY', 'FRI', 'WORKING DAY', 'GOOD', 26.035849, 57.3333, 14.875675, 4991, 174), ('SUMMER', 2011, 'JUN', 'NO HOLIDAY', 'SAT', 'NO WORKING DAY', 'GOOD', 24.665, 48.3333, 14.041257, 5202, 175), ('SUMMER', 2011, 'JUN', 'NO HOLIDAY', 'SUN', 'NO WORKING DAY', 'GOOD', 23.96, 51.3333, 6.3337311, 5305, 176), ('SUMMER', 2011, 'JUN', 'NO HOLIDAY', 'MON', 'WORKING DAY', 'MISTY', 24.0775, 65.8333, 7.208396, 4708, 177), ('SUMMER', 2011, 'JUN', 'NO HOLIDAY', 'TUE', 'WORKING DAY', 'GOOD', 26.975849, 63.4167, 9.666961, 4648, 178), ('SUMMER', 2011, 'JUN', 'NO HOLIDAY', 'WED', 'WORKING DAY', 'GOOD', 26.231651, 49.7917, 17.542007, 5225, 179), ('SUMMER', 2011, 'JUN', 'NO HOLIDAY', 'THU', 'WORKING DAY', 'GOOD', 24.743349, 43.4167, 12.415904, 5515, 180), ('SUMMER', 2011, 'JUL', 'NO HOLIDAY', 'FRI', 'WORKING DAY', 'GOOD', 25.9575, 39.625, 6.874736, 5362, 181), ('SUMMER', 2011, 'JUL', 'NO HOLIDAY', 'SAT', 'NO WORKING DAY', 'GOOD', 26.701651, 44.4583, 7.709154, 5119, 182), ('SUMMER', 2011, 'JUL', 'NO HOLIDAY', 'SUN', 'NO WORKING DAY', 'MISTY', 25.683349, 68.25, 15.333486, 4649, 183), ('SUMMER', 2011, 'JUL', 'HOLIDAY', 'MON', 'NO WORKING DAY', 'MISTY', 26.153349, 63.7917, 5.4591064, 6043, 184), ('SUMMER', 2011, 'JUL', 'NO HOLIDAY', 'TUE', 'WORKING DAY', 'GOOD', 27.093349, 59.0417, 8.459286, 4665, 185), ('SUMMER', 2011, 'JUL', 'NO HOLIDAY', 'WED', 'WORKING DAY', 'GOOD', 25.84, 74.3333, 10.042161, 4629, 186), ('SUMMER', 2011, 'JUL', 'NO HOLIDAY', 'THU', 'WORKING DAY', 'GOOD', 27.25, 65.125, 10.6664, 4592, 187), ('SUMMER', 2011, 'JUL', 'NO HOLIDAY', 'FRI', 'WORKING DAY', 'MISTY', 25.330849, 75.7917, 15.083643, 4040, 188), ('SUMMER', 2011, 'JUL', 'NO HOLIDAY', 'SAT', 'NO WORKING DAY', 'GOOD', 26.466651, 60.9167, 11.250104, 5336, 189), ('SUMMER', 2011, 'JUL', 'NO HOLIDAY', 'SUN', 'NO WORKING DAY', 'GOOD', 27.1325, 57.8333, 12.292557, 4881, 190), ('SUMMER', 2011, 'JUL', 'NO HOLIDAY', 'MON', 'WORKING DAY', 'GOOD', 27.8375, 63.5833, 18.916579, 4086, 191), ('SUMMER', 2011, 'JUL', 'NO HOLIDAY', 'TUE', 'WORKING DAY', 'GOOD', 29.325849, 55.9167, 13.417018, 4258, 192), ('SUMMER', 2011, 'JUL', 'NO HOLIDAY', 'WED', 'WORKING DAY', 'GOOD', 27.093349, 63.1667, 9.790911, 4342, 193), ('SUMMER', 2011, 'JUL', 'NO HOLIDAY', 'THU', 'WORKING DAY', 'GOOD', 23.999151, 47.625, 16.124689, 5084, 194), ('SUMMER', 2011, 'JUL', 'NO HOLIDAY', 'FRI', 'WORKING DAY', 'GOOD', 23.176651, 59.125, 12.249811, 5538, 195), ('SUMMER', 2011, 'JUL', 'NO HOLIDAY', 'SAT', 'NO WORKING DAY', 'GOOD', 24.273349, 58.5, 13.958914, 5923, 196), ('SUMMER', 2011, 'JUL', 'NO HOLIDAY', 'SUN', 'NO WORKING DAY', 'GOOD', 25.800849, 60.4167, 16.417211, 5302, 197), ('SUMMER', 2011, 'JUL', 'NO HOLIDAY', 'MON', 'WORKING DAY', 'GOOD', 27.093349, 65.125, 14.458868, 4458, 198), ('SUMMER', 2011, 'JUL', 'NO HOLIDAY', 'TUE', 'WORKING DAY', 'GOOD', 28.503349, 65.0417, 8.7502, 4541, 199), ('SUMMER', 2011, 'JUL', 'NO HOLIDAY', 'WED', 'WORKING DAY', 'GOOD', 28.111651, 70.7083, 7.625739, 4332, 200), ('SUMMER', 2011, 'JUL', 'NO HOLIDAY', 'THU', 'WORKING DAY', 'MISTY', 30.305, 69.125, 14.875407, 3784, 201), ('SUMMER', 2011, 'JUL', 'NO HOLIDAY', 'FRI', 'WORKING DAY', 'GOOD', 31.871651, 58.0417, 8.9177, 3387, 202), ('SUMMER', 2011, 'JUL', 'NO HOLIDAY', 'SAT', 'NO WORKING DAY', 'GOOD', 31.910849, 50.0, 8.791807, 3285, 203), ('SUMMER', 2011, 'JUL', 'NO HOLIDAY', 'SUN', 'NO WORKING DAY', 'GOOD', 31.01, 55.0833, 11.334457, 3606, 204), ('SUMMER', 2011, 'JUL', 'NO HOLIDAY', 'MON', 'WORKING DAY', 'GOOD', 26.936651, 75.7083, 6.0841561, 3840, 205), ('SUMMER', 2011, 'JUL', 'NO HOLIDAY', 'TUE', 'WORKING DAY', 'GOOD', 28.268349, 54.0833, 13.417286, 4590, 206), ('SUMMER', 2011, 'JUL', 'NO HOLIDAY', 'WED', 'WORKING DAY', 'GOOD', 28.425, 40.2917, 12.292021, 4656, 207), ('SUMMER', 2011, 'JUL', 'NO HOLIDAY', 'THU', 'WORKING DAY', 'GOOD', 28.620849, 58.3333, 11.958093, 4390, 208), ('SUMMER', 2011, 'JUL', 'NO HOLIDAY', 'FRI', 'WORKING DAY', 'GOOD', 31.401651, 54.25, 11.667246, 3846, 209), ('SUMMER', 2011, 'JUL', 'NO HOLIDAY', 'SAT', 'NO WORKING DAY', 'GOOD', 29.795849, 46.5833, 11.291979, 4475, 210), ('SUMMER', 2011, 'JUL', 'NO HOLIDAY', 'SUN', 'NO WORKING DAY', 'GOOD', 29.874151, 48.0833, 11.042471, 4302, 211), ('SUMMER', 2011, 'AUG', 'NO HOLIDAY', 'MON', 'WORKING DAY', 'GOOD', 28.268349, 55.0833, 10.500039, 4266, 212), ('SUMMER', 2011, 'AUG', 'NO HOLIDAY', 'TUE', 'WORKING DAY', 'GOOD', 28.816651, 49.125, 13.79195, 4845, 213), ('SUMMER', 2011, 'AUG', 'NO HOLIDAY', 'WED', 'WORKING DAY', 'MISTY', 26.388349, 65.75, 9.084061, 3574, 214), ('SUMMER', 2011, 'AUG', 'NO HOLIDAY', 'THU', 'WORKING DAY', 'MISTY', 25.37, 75.75, 13.20905, 4576, 215), ('SUMMER', 2011, 'AUG', 'NO HOLIDAY', 'FRI', 'WORKING DAY', 'GOOD', 25.409151, 63.0833, 12.374632, 4866, 216), ('SUMMER', 2011, 'AUG', 'NO HOLIDAY', 'SAT', 'NO WORKING DAY', 'MISTY', 25.683349, 75.5, 15.29275, 4294, 217), ('SUMMER', 2011, 'AUG', 'NO HOLIDAY', 'SUN', 'NO WORKING DAY', 'GOOD', 26.8975, 75.2917, 13.499629, 3785, 218), ('SUMMER', 2011, 'AUG', 'NO HOLIDAY', 'MON', 'WORKING DAY', 'GOOD', 27.955, 59.2083, 12.875725, 4326, 219), ('SUMMER', 2011, 'AUG', 'NO HOLIDAY', 'TUE', 'WORKING DAY', 'GOOD', 28.425, 57.0417, 10.125107, 4602, 220), ('SUMMER', 2011, 'AUG', 'NO HOLIDAY', 'WED', 'WORKING DAY', 'GOOD', 28.033349, 42.4167, 13.417286, 4780, 221), ('SUMMER', 2011, 'AUG', 'NO HOLIDAY', 'THU', 'WORKING DAY', 'GOOD', 25.7225, 42.375, 11.041332, 4792, 222), ('SUMMER', 2011, 'AUG', 'NO HOLIDAY', 'FRI', 'WORKING DAY', 'GOOD', 25.291651, 41.5, 8.416607, 4905, 223), ('SUMMER', 2011, 'AUG', 'NO HOLIDAY', 'SAT', 'NO WORKING DAY', 'MISTY', 24.234151, 72.9583, 14.167418, 4150, 224), ('SUMMER', 2011, 'AUG', 'NO HOLIDAY', 'SUN', 'NO WORKING DAY', 'MISTY', 23.803349, 81.75, 14.916411, 3820, 225), ('SUMMER', 2011, 'AUG', 'NO HOLIDAY', 'MON', 'WORKING DAY', 'GOOD', 23.294151, 71.2083, 13.999918, 4338, 226), ('SUMMER', 2011, 'AUG', 'NO HOLIDAY', 'TUE', 'WORKING DAY', 'GOOD', 24.939151, 57.8333, 15.834043, 4725, 227), ('SUMMER', 2011, 'AUG', 'NO HOLIDAY', 'WED', 'WORKING DAY', 'GOOD', 25.996651, 57.5417, 9.625689, 4694, 228), ('SUMMER', 2011, 'AUG', 'NO HOLIDAY', 'THU', 'WORKING DAY', 'GOOD', 25.448349, 65.4583, 15.624936, 3805, 229), ('SUMMER', 2011, 'AUG', 'NO HOLIDAY', 'FRI', 'WORKING DAY', 'MISTY', 24.195, 72.2917, 9.333636, 4153, 230), ('SUMMER', 2011, 'AUG', 'NO HOLIDAY', 'SAT', 'NO WORKING DAY', 'GOOD', 24.7825, 67.4167, 6.999289, 5191, 231), ('SUMMER', 2011, 'AUG', 'NO HOLIDAY', 'SUN', 'NO WORKING DAY', 'GOOD', 25.409151, 77.0, 16.666518, 3873, 232), ('SUMMER', 2011, 'AUG', 'NO HOLIDAY', 'MON', 'WORKING DAY', 'GOOD', 24.508349, 47.0, 18.54225, 4758, 233), ('SUMMER', 2011, 'AUG', 'NO HOLIDAY', 'TUE', 'WORKING DAY', 'GOOD', 22.119151, 45.5417, 9.833121, 5895, 234), ('SUMMER', 2011, 'AUG', 'NO HOLIDAY', 'WED', 'WORKING DAY', 'GOOD', 23.646651, 60.5, 16.958236, 5130, 235), ('SUMMER', 2011, 'AUG', 'NO HOLIDAY', 'THU', 'WORKING DAY', 'MISTY', 24.155849, 77.1667, 14.125811, 3542, 236), ('SUMMER', 2011, 'AUG', 'NO HOLIDAY', 'FRI', 'WORKING DAY', 'GOOD', 24.9, 76.125, 5.6254875, 4661, 237), ('SUMMER', 2011, 'AUG', 'NO HOLIDAY', 'SAT', 'NO WORKING DAY', 'MISTY', 23.96, 85.0, 25.166339, 1115, 238), ('SUMMER', 2011, 'AUG', 'NO HOLIDAY', 'SUN', 'NO WORKING DAY', 'GOOD', 25.231773, 56.1765, 20.412153, 4334, 239), ('SUMMER', 2011, 'AUG', 'NO HOLIDAY', 'MON', 'WORKING DAY', 'GOOD', 21.923349, 55.4583, 10.708275, 4634, 240), ('SUMMER', 2011, 'AUG', 'NO HOLIDAY', 'TUE', 'WORKING DAY', 'GOOD', 22.040849, 54.8333, 8.375536, 5204, 241), ('SUMMER', 2011, 'AUG', 'NO HOLIDAY', 'WED', 'WORKING DAY', 'GOOD', 22.863349, 59.7917, 5.5833311, 5058, 242), ('SUMMER', 2011, 'SEP', 'NO HOLIDAY', 'THU', 'WORKING DAY', 'GOOD', 22.785, 63.9167, 9.500332, 5115, 243), ('SUMMER', 2011, 'SEP', 'NO HOLIDAY', 'FRI', 'WORKING DAY', 'MISTY', 22.236651, 72.7083, 9.375243, 4727, 244), ('SUMMER', 2011, 'SEP', 'NO HOLIDAY', 'SAT', 'NO WORKING DAY', 'GOOD', 23.450849, 71.6667, 12.416775, 4484, 245), ('SUMMER', 2011, 'SEP', 'NO HOLIDAY', 'SUN', 'NO WORKING DAY', 'GOOD', 25.330849, 74.2083, 13.833289, 4940, 246), ('SUMMER', 2011, 'SEP', 'HOLIDAY', 'MON', 'NO WORKING DAY', 'MISTY', 23.646651, 79.0417, 14.250632, 3351, 247), ('SUMMER', 2011, 'SEP', 'NO HOLIDAY', 'TUE', 'WORKING DAY', 'RAIN/SNOW/STORM', 17.38, 88.6957, 23.044181, 2710, 248), ('SUMMER', 2011, 'SEP', 'NO HOLIDAY', 'WED', 'WORKING DAY', 'RAIN/SNOW/STORM', 20.160849, 91.7083, 6.5003936, 1996, 249), ('SUMMER', 2011, 'SEP', 'NO HOLIDAY', 'THU', 'WORKING DAY', 'RAIN/SNOW/STORM', 21.793911, 93.9565, 12.914116, 1842, 250), ('SUMMER', 2011, 'SEP', 'NO HOLIDAY', 'FRI', 'WORKING DAY', 'MISTY', 22.55, 89.7917, 8.333393, 3544, 251), ('SUMMER', 2011, 'SEP', 'NO HOLIDAY', 'SAT', 'NO WORKING DAY', 'GOOD', 23.02, 75.375, 10.291736, 5345, 252), ('SUMMER', 2011, 'SEP', 'NO HOLIDAY', 'SUN', 'NO WORKING DAY', 'GOOD', 22.706651, 71.375, 7.708618, 5046, 253), ('SUMMER', 2011, 'SEP', 'NO HOLIDAY', 'MON', 'WORKING DAY', 'GOOD', 22.284356, 69.2174, 5.957171, 4713, 254), ('SUMMER', 2011, 'SEP', 'NO HOLIDAY', 'TUE', 'WORKING DAY', 'GOOD', 22.589151, 71.25, 9.500868, 4763, 255), ('SUMMER', 2011, 'SEP', 'NO HOLIDAY', 'WED', 'WORKING DAY', 'GOOD', 23.646651, 69.7083, 11.2091, 4785, 256), ('SUMMER', 2011, 'SEP', 'NO HOLIDAY', 'THU', 'WORKING DAY', 'MISTY', 19.1425, 70.9167, 18.166782, 3659, 257), ('SUMMER', 2011, 'SEP', 'NO HOLIDAY', 'FRI', 'WORKING DAY', 'MISTY', 14.050849, 59.0417, 11.000261, 4760, 258), ('SUMMER', 2011, 'SEP', 'NO HOLIDAY', 'SAT', 'NO WORKING DAY', 'MISTY', 15.108349, 71.8333, 12.708225, 4511, 259), ('SUMMER', 2011, 'SEP', 'NO HOLIDAY', 'SUN', 'NO WORKING DAY', 'GOOD', 15.8525, 69.5, 11.958361, 4274, 260), ('SUMMER', 2011, 'SEP', 'NO HOLIDAY', 'MON', 'WORKING DAY', 'MISTY', 17.810849, 69.0, 10.166714, 4539, 261), ('SUMMER', 2011, 'SEP', 'NO HOLIDAY', 'TUE', 'WORKING DAY', 'MISTY', 18.398349, 88.125, 9.041918, 3641, 262), ('SUMMER', 2011, 'SEP', 'NO HOLIDAY', 'WED', 'WORKING DAY', 'MISTY', 19.965, 90.0, 6.4590814, 4352, 263), ('SUMMER', 2011, 'SEP', 'NO HOLIDAY', 'THU', 'WORKING DAY', 'MISTY', 21.531651, 90.2083, 8.584375, 4795, 264), ('FALL', 2011, 'SEP', 'NO HOLIDAY', 'FRI', 'WORKING DAY', 'MISTY', 20.630849, 97.25, 5.2505689, 2395, 265), ('FALL', 2011, 'SEP', 'NO HOLIDAY', 'SAT', 'NO WORKING DAY', 'MISTY', 20.513349, 86.25, 5.2516811, 5423, 266), ('FALL', 2011, 'SEP', 'NO HOLIDAY', 'SUN', 'NO WORKING DAY', 'MISTY', 21.805849, 84.5, 3.3754064, 5010, 267), ('FALL', 2011, 'SEP', 'NO HOLIDAY', 'MON', 'WORKING DAY', 'MISTY', 22.510849, 84.8333, 7.4169, 4630, 268), ('FALL', 2011, 'SEP', 'NO HOLIDAY', 'TUE', 'WORKING DAY', 'MISTY', 21.923349, 88.5417, 7.917457, 4120, 269), ('FALL', 2011, 'SEP', 'NO HOLIDAY', 'WED', 'WORKING DAY', 'MISTY', 21.845, 84.875, 9.958143, 3907, 270), ('FALL', 2011, 'SEP', 'NO HOLIDAY', 'THU', 'WORKING DAY', 'GOOD', 20.983349, 69.9167, 11.583161, 4839, 271), ('FALL', 2011, 'SEP', 'NO HOLIDAY', 'FRI', 'WORKING DAY', 'GOOD', 18.515849, 64.75, 13.833825, 5202, 272), ('FALL', 2011, 'OCT', 'NO HOLIDAY', 'SAT', 'NO WORKING DAY', 'MISTY', 11.27, 75.375, 19.583832, 2429, 273), ('FALL', 2011, 'OCT', 'NO HOLIDAY', 'SUN', 'NO WORKING DAY', 'MISTY', 8.763349, 79.1667, 14.874871, 2918, 274), ('FALL', 2011, 'OCT', 'NO HOLIDAY', 'MON', 'WORKING DAY', 'MISTY', 10.055849, 76.0833, 5.5841686, 3570, 275), ('FALL', 2011, 'OCT', 'NO HOLIDAY', 'TUE', 'WORKING DAY', 'GOOD', 14.755849, 71.0, 13.792218, 4456, 276), ('FALL', 2011, 'OCT', 'NO HOLIDAY', 'WED', 'WORKING DAY', 'GOOD', 17.301651, 64.7917, 11.87575, 4826, 277), ('FALL', 2011, 'OCT', 'NO HOLIDAY', 'THU', 'WORKING DAY', 'GOOD', 15.225849, 62.0833, 9.041918, 4765, 278), ('FALL', 2011, 'OCT', 'NO HOLIDAY', 'FRI', 'WORKING DAY', 'GOOD', 16.009151, 68.4167, 1.5002439, 4985, 279), ('FALL', 2011, 'OCT', 'NO HOLIDAY', 'SAT', 'NO WORKING DAY', 'GOOD', 16.518349, 70.125, 3.0420814, 5409, 280), ('FALL', 2011, 'OCT', 'NO HOLIDAY', 'SUN', 'NO WORKING DAY', 'GOOD', 17.419151, 72.75, 4.25115, 5511, 281), ('FALL', 2011, 'OCT', 'HOLIDAY', 'MON', 'NO WORKING DAY', 'GOOD', 18.829151, 73.375, 2.8343814, 5117, 282), ('FALL', 2011, 'OCT', 'NO HOLIDAY', 'TUE', 'WORKING DAY', 'MISTY', 18.633349, 80.875, 9.583814, 4563, 283), ('FALL', 2011, 'OCT', 'NO HOLIDAY', 'WED', 'WORKING DAY', 'RAIN/SNOW/STORM', 17.536651, 90.625, 16.62605, 2416, 284), ('FALL', 2011, 'OCT', 'NO HOLIDAY', 'THU', 'WORKING DAY', 'MISTY', 19.690849, 89.6667, 9.499729, 2913, 285), ('FALL', 2011, 'OCT', 'NO HOLIDAY', 'FRI', 'WORKING DAY', 'MISTY', 17.889151, 71.625, 15.000161, 3644, 286), ('FALL', 2011, 'OCT', 'NO HOLIDAY', 'SAT', 'NO WORKING DAY', 'GOOD', 15.813349, 48.3333, 17.291561, 5217, 287), ('FALL', 2011, 'OCT', 'NO HOLIDAY', 'SUN', 'NO WORKING DAY', 'GOOD', 16.048349, 48.6667, 18.875039, 5041, 288), ('FALL', 2011, 'OCT', 'NO HOLIDAY', 'MON', 'WORKING DAY', 'GOOD', 17.105849, 57.9583, 11.750393, 4570, 289), ('FALL', 2011, 'OCT', 'NO HOLIDAY', 'TUE', 'WORKING DAY', 'MISTY', 17.0275, 70.1667, 7.375829, 4748, 290), ('FALL', 2011, 'OCT', 'NO HOLIDAY', 'WED', 'WORKING DAY', 'RAIN/SNOW/STORM', 17.461733, 89.5217, 16.303713, 2424, 291), ('FALL', 2011, 'OCT', 'NO HOLIDAY', 'THU', 'WORKING DAY', 'GOOD', 14.364151, 63.625, 28.292425, 4195, 292), ('FALL', 2011, 'OCT', 'NO HOLIDAY', 'FRI', 'WORKING DAY', 'GOOD', 12.0925, 57.4167, 14.833532, 4304, 293), ('FALL', 2011, 'OCT', 'NO HOLIDAY', 'SAT', 'NO WORKING DAY', 'GOOD', 11.8575, 62.9167, 6.2086689, 4308, 294), ('FALL', 2011, 'OCT', 'NO HOLIDAY', 'SUN', 'NO WORKING DAY', 'GOOD', 11.818349, 74.125, 6.6673375, 4381, 295), ('FALL', 2011, 'OCT', 'NO HOLIDAY', 'MON', 'WORKING DAY', 'GOOD', 13.776651, 77.2083, 7.959064, 4187, 296), ('FALL', 2011, 'OCT', 'NO HOLIDAY', 'TUE', 'WORKING DAY', 'GOOD', 14.168349, 62.2917, 11.166086, 4687, 297), ('FALL', 2011, 'OCT', 'NO HOLIDAY', 'WED', 'WORKING DAY', 'MISTY', 14.755849, 72.0417, 9.959014, 3894, 298), ('FALL', 2011, 'OCT', 'NO HOLIDAY', 'THU', 'WORKING DAY', 'MISTY', 14.09, 81.2917, 13.250121, 2659, 299), ('FALL', 2011, 'OCT', 'NO HOLIDAY', 'FRI', 'WORKING DAY', 'MISTY', 7.549151, 58.5833, 15.375093, 3747, 300), ('FALL', 2011, 'OCT', 'NO HOLIDAY', 'SAT', 'NO WORKING DAY', 'RAIN/SNOW/STORM', 3.945849, 88.25, 23.541857, 627, 301), ('FALL', 2011, 'OCT', 'NO HOLIDAY', 'SUN', 'NO WORKING DAY', 'GOOD', 7.000849, 62.375, 11.833339, 3331, 302), ('FALL', 2011, 'OCT', 'NO HOLIDAY', 'MON', 'WORKING DAY', 'GOOD', 7.98, 70.3333, 7.12545, 3669, 303), ('FALL', 2011, 'NOV', 'NO HOLIDAY', 'TUE', 'WORKING DAY', 'GOOD', 10.839151, 68.375, 9.083257, 4068, 304), ('FALL', 2011, 'NOV', 'NO HOLIDAY', 'WED', 'WORKING DAY', 'GOOD', 9.7425, 71.875, 5.5001439, 4186, 305), ('FALL', 2011, 'NOV', 'NO HOLIDAY', 'THU', 'WORKING DAY', 'GOOD', 11.191651, 70.2083, 9.166739, 3974, 306), ('FALL', 2011, 'NOV', 'NO HOLIDAY', 'FRI', 'WORKING DAY', 'MISTY', 10.956651, 62.25, 18.209193, 4046, 307), ('FALL', 2011, 'NOV', 'NO HOLIDAY', 'SAT', 'NO WORKING DAY', 'GOOD', 7.353349, 51.9167, 12.667154, 3926, 308), ('FALL', 2011, 'NOV', 'NO HOLIDAY', 'SUN', 'NO WORKING DAY', 'GOOD', 8.371651, 73.4583, 6.1676314, 3649, 309), ('FALL', 2011, 'NOV', 'NO HOLIDAY', 'MON', 'WORKING DAY', 'GOOD', 10.565, 75.875, 3.834075, 4035, 310), ('FALL', 2011, 'NOV', 'NO HOLIDAY', 'TUE', 'WORKING DAY', 'GOOD', 11.191651, 72.1667, 4.6255125, 4205, 311), ('FALL', 2011, 'NOV', 'NO HOLIDAY', 'WED', 'WORKING DAY', 'GOOD', 10.8, 75.8333, 4.1671186, 4109, 312), ('FALL', 2011, 'NOV', 'NO HOLIDAY', 'THU', 'WORKING DAY', 'MISTY', 9.86, 81.3333, 12.667489, 2933, 313), ('FALL', 2011, 'NOV', 'HOLIDAY', 'FRI', 'NO WORKING DAY', 'GOOD', 7.235849, 44.625, 21.083225, 3368, 314), ('FALL', 2011, 'NOV', 'NO HOLIDAY', 'SAT', 'NO WORKING DAY', 'GOOD', 8.763349, 55.2917, 14.208154, 4067, 315), ('FALL', 2011, 'NOV', 'NO HOLIDAY', 'SUN', 'NO WORKING DAY', 'GOOD', 12.719151, 45.8333, 18.875307, 3717, 316), ('FALL', 2011, 'NOV', 'NO HOLIDAY', 'MON', 'WORKING DAY', 'GOOD', 16.91, 58.7083, 20.541932, 4486, 317), ('FALL', 2011, 'NOV', 'NO HOLIDAY', 'TUE', 'WORKING DAY', 'MISTY', 16.91, 68.875, 13.375411, 4195, 318), ('FALL', 2011, 'NOV', 'NO HOLIDAY', 'WED', 'WORKING DAY', 'RAIN/SNOW/STORM', 13.463349, 93.0, 9.167543, 1817, 319), ('FALL', 2011, 'NOV', 'NO HOLIDAY', 'THU', 'WORKING DAY', 'MISTY', 8.058349, 57.5833, 20.459254, 3053, 320), ('FALL', 2011, 'NOV', 'NO HOLIDAY', 'FRI', 'WORKING DAY', 'GOOD', 4.885849, 41.0, 11.291711, 3392, 321), ('FALL', 2011, 'NOV', 'NO HOLIDAY', 'SAT', 'NO WORKING DAY', 'GOOD', 7.470849, 50.2083, 15.041232, 3663, 322), ('FALL', 2011, 'NOV', 'NO HOLIDAY', 'SUN', 'NO WORKING DAY', 'MISTY', 13.776651, 68.4583, 12.45865, 3520, 323), ('FALL', 2011, 'NOV', 'NO HOLIDAY', 'MON', 'WORKING DAY', 'RAIN/SNOW/STORM', 13.0325, 91.0, 9.249618, 2765, 324), ('FALL', 2011, 'NOV', 'NO HOLIDAY', 'TUE', 'WORKING DAY', 'RAIN/SNOW/STORM', 11.583349, 96.25, 7.959064, 1607, 325), ('FALL', 2011, 'NOV', 'NO HOLIDAY', 'WED', 'WORKING DAY', 'MISTY', 12.719151, 75.7917, 22.500275, 2566, 326), ('FALL', 2011, 'NOV', 'HOLIDAY', 'THU', 'NO WORKING DAY', 'GOOD', 9.546651, 54.9167, 11.209368, 1495, 327), ('FALL', 2011, 'NOV', 'NO HOLIDAY', 'FRI', 'WORKING DAY', 'GOOD', 9.625, 64.375, 6.6260186, 2792, 328), ('FALL', 2011, 'NOV', 'NO HOLIDAY', 'SAT', 'NO WORKING DAY', 'GOOD', 9.664151, 68.1667, 4.5841936, 3068, 329), ('FALL', 2011, 'NOV', 'NO HOLIDAY', 'SUN', 'NO WORKING DAY', 'GOOD', 13.580849, 69.8333, 13.999918, 3071, 330), ('FALL', 2011, 'NOV', 'NO HOLIDAY', 'MON', 'WORKING DAY', 'GOOD', 15.663466, 74.3043, 9.522174, 3867, 331), ('FALL', 2011, 'NOV', 'NO HOLIDAY', 'TUE', 'WORKING DAY', 'MISTY', 13.541651, 83.0833, 17.292164, 2914, 332), ('FALL', 2011, 'NOV', 'NO HOLIDAY', 'WED', 'WORKING DAY', 'GOOD', 7.275, 61.3333, 18.167586, 3613, 333), ('FALL', 2011, 'DEC', 'NO HOLIDAY', 'THU', 'WORKING DAY', 'GOOD', 6.6875, 52.4583, 14.750586, 3727, 334), ('FALL', 2011, 'DEC', 'NO HOLIDAY', 'FRI', 'WORKING DAY', 'GOOD', 6.765849, 62.5833, 6.750518, 3940, 335), ('FALL', 2011, 'DEC', 'NO HOLIDAY', 'SAT', 'NO WORKING DAY', 'GOOD', 6.060849, 61.2917, 6.4174811, 3614, 336), ('FALL', 2011, 'DEC', 'NO HOLIDAY', 'SUN', 'NO WORKING DAY', 'GOOD', 7.549151, 77.5833, 5.6252061, 3485, 337), ('FALL', 2011, 'DEC', 'NO HOLIDAY', 'MON', 'WORKING DAY', 'MISTY', 10.134151, 82.7083, 4.1679561, 3811, 338), ('FALL', 2011, 'DEC', 'NO HOLIDAY', 'TUE', 'WORKING DAY', 'RAIN/SNOW/STORM', 13.7375, 94.9583, 15.583061, 2594, 339), ('FALL', 2011, 'DEC', 'NO HOLIDAY', 'WED', 'WORKING DAY', 'RAIN/SNOW/STORM', 11.27, 97.0417, 17.833725, 705, 340), ('FALL', 2011, 'DEC', 'NO HOLIDAY', 'THU', 'WORKING DAY', 'GOOD', 4.494151, 58.0, 16.083886, 3322, 341), ('FALL', 2011, 'DEC', 'NO HOLIDAY', 'FRI', 'WORKING DAY', 'GOOD', 5.669151, 69.5833, 5.5420189, 3620, 342), ('FALL', 2011, 'DEC', 'NO HOLIDAY', 'SAT', 'NO WORKING DAY', 'GOOD', 4.925, 50.75, 15.625807, 3190, 343), ('FALL', 2011, 'DEC', 'NO HOLIDAY', 'SUN', 'NO WORKING DAY', 'GOOD', 2.379151, 49.0, 4.4582939, 2743, 344), ('FALL', 2011, 'DEC', 'NO HOLIDAY', 'MON', 'WORKING DAY', 'GOOD', 3.201651, 67.0833, 4.25115, 3310, 345), ('FALL', 2011, 'DEC', 'NO HOLIDAY', 'TUE', 'WORKING DAY', 'GOOD', 5.2775, 59.0, 9.41685, 3523, 346), ('FALL', 2011, 'DEC', 'NO HOLIDAY', 'WED', 'WORKING DAY', 'MISTY', 6.9225, 66.375, 4.0842061, 3740, 347), ('FALL', 2011, 'DEC', 'NO HOLIDAY', 'THU', 'WORKING DAY', 'MISTY', 11.8575, 63.4167, 17.958814, 3709, 348), ('FALL', 2011, 'DEC', 'NO HOLIDAY', 'FRI', 'WORKING DAY', 'MISTY', 9.625, 50.0417, 17.458525, 3577, 349), ('FALL', 2011, 'DEC', 'NO HOLIDAY', 'SAT', 'NO WORKING DAY', 'MISTY', 4.141651, 56.0833, 16.292189, 2739, 350), ('FALL', 2011, 'DEC', 'NO HOLIDAY', 'SUN', 'NO WORKING DAY', 'GOOD', 3.201651, 58.625, 11.375193, 2431, 351), ('FALL', 2011, 'DEC', 'NO HOLIDAY', 'MON', 'WORKING DAY', 'GOOD', 5.003349, 63.75, 11.584032, 3403, 352), ('FALL', 2011, 'DEC', 'NO HOLIDAY', 'TUE', 'WORKING DAY', 'MISTY', 10.134151, 59.5417, 4.1252436, 3750, 353), ('WINTER', 2011, 'DEC', 'NO HOLIDAY', 'WED', 'WORKING DAY', 'MISTY', 12.131651, 85.8333, 14.8338, 2660, 354), ('WINTER', 2011, 'DEC', 'NO HOLIDAY', 'THU', 'WORKING DAY', 'MISTY', 11.896651, 75.75, 3.167425, 3068, 355), ('WINTER', 2011, 'DEC', 'NO HOLIDAY', 'FRI', 'WORKING DAY', 'GOOD', 9.546651, 68.625, 18.374482, 2209, 356), ('WINTER', 2011, 'DEC', 'NO HOLIDAY', 'SAT', 'NO WORKING DAY', 'GOOD', 6.2175, 54.25, 12.750368, 1011, 357), ('WINTER', 2011, 'DEC', 'NO HOLIDAY', 'SUN', 'NO WORKING DAY', 'GOOD', 4.914801, 68.1304, 10.391097, 754, 358), ('WINTER', 2011, 'DEC', 'HOLIDAY', 'MON', 'NO WORKING DAY', 'GOOD', 7.121733, 50.6957, 16.044155, 1317, 359), ('WINTER', 2011, 'DEC', 'NO HOLIDAY', 'TUE', 'WORKING DAY', 'MISTY', 7.275, 76.25, 12.62615, 1162, 360), ('WINTER', 2011, 'DEC', 'NO HOLIDAY', 'WED', 'WORKING DAY', 'GOOD', 6.05911, 50.3913, 19.695387, 2302, 361), ('WINTER', 2011, 'DEC', 'NO HOLIDAY', 'THU', 'WORKING DAY', 'GOOD', 3.671651, 57.4167, 8.000604, 2423, 362), ('WINTER', 2011, 'DEC', 'NO HOLIDAY', 'FRI', 'WORKING DAY', 'GOOD', 6.648349, 63.6667, 9.000579, 2999, 363), ('WINTER', 2011, 'DEC', 'NO HOLIDAY', 'SAT', 'NO WORKING DAY', 'GOOD', 11.27, 61.5833, 14.750318, 2485, 364), ('WINTER', 2012, 'JAN', 'NO HOLIDAY', 'SUN', 'NO WORKING DAY', 'GOOD', 9.39, 69.25, 12.875189, 2294, 365), ('WINTER', 2012, 'JAN', 'HOLIDAY', 'MON', 'NO WORKING DAY', 'GOOD', 4.833021, 38.1304, 22.087555, 1951, 366), ('WINTER', 2012, 'JAN', 'NO HOLIDAY', 'TUE', 'WORKING DAY', 'GOOD', -0.95, 44.125, 24.499957, 2236, 367), ('WINTER', 2012, 'JAN', 'NO HOLIDAY', 'WED', 'WORKING DAY', 'MISTY', -2.9475, 41.4583, 12.3749, 2368, 368), ('WINTER', 2012, 'JAN', 'NO HOLIDAY', 'THU', 'WORKING DAY', 'GOOD', 4.494151, 52.4167, 8.709129, 3272, 369), ('WINTER', 2012, 'JAN', 'NO HOLIDAY', 'FRI', 'WORKING DAY', 'GOOD', 7.705849, 54.2083, 11.249836, 4098, 370), ('WINTER', 2012, 'JAN', 'NO HOLIDAY', 'SAT', 'NO WORKING DAY', 'GOOD', 10.486651, 53.1667, 11.708786, 4521, 371), ('WINTER', 2012, 'JAN', 'NO HOLIDAY', 'SUN', 'NO WORKING DAY', 'GOOD', 7.8625, 46.5, 12.833314, 3425, 372), ('WINTER', 2012, 'JAN', 'NO HOLIDAY', 'MON', 'WORKING DAY', 'MISTY', 2.535849, 70.1667, 6.6263, 2376, 373), ('WINTER', 2012, 'JAN', 'NO HOLIDAY', 'TUE', 'WORKING DAY', 'GOOD', 6.508712, 64.6522, 12.565984, 3598, 374), ('WINTER', 2012, 'JAN', 'NO HOLIDAY', 'WED', 'WORKING DAY', 'MISTY', 4.885849, 84.75, 8.791807, 2177, 375), ('WINTER', 2012, 'JAN', 'NO HOLIDAY', 'THU', 'WORKING DAY', 'MISTY', 9.9775, 80.2917, 12.124789, 4097, 376), ('WINTER', 2012, 'JAN', 'NO HOLIDAY', 'FRI', 'WORKING DAY', 'GOOD', 4.885849, 50.75, 25.333236, 3214, 377), ('WINTER', 2012, 'JAN', 'NO HOLIDAY', 'SAT', 'NO WORKING DAY', 'GOOD', 0.459999999999999, 45.75, 12.541261, 2493, 378), ('WINTER', 2012, 'JAN', 'NO HOLIDAY', 'SUN', 'NO WORKING DAY', 'GOOD', -0.166651, 41.9167, 16.834286, 2311, 379), ('WINTER', 2012, 'JAN', 'HOLIDAY', 'MON', 'NO WORKING DAY', 'GOOD', 0.93, 52.25, 15.500986, 2298, 380), ('WINTER', 2012, 'JAN', 'NO HOLIDAY', 'TUE', 'WORKING DAY', 'MISTY', 9.533021, 71.6087, 23.39171, 2935, 381), ('WINTER', 2012, 'JAN', 'NO HOLIDAY', 'WED', 'WORKING DAY', 'GOOD', 6.256651, 44.3333, 27.833743, 3376, 382), ('WINTER', 2012, 'JAN', 'NO HOLIDAY', 'THU', 'WORKING DAY', 'GOOD', 0.93, 49.75, 14.750586, 3292, 383), ('WINTER', 2012, 'JAN', 'NO HOLIDAY', 'FRI', 'WORKING DAY', 'MISTY', 2.2225, 45.0, 13.58425, 3163, 384), ('WINTER', 2012, 'JAN', 'NO HOLIDAY', 'SAT', 'NO WORKING DAY', 'MISTY', 0.146650999999999, 83.125, 14.917014, 1301, 385), ('WINTER', 2012, 'JAN', 'NO HOLIDAY', 'SUN', 'NO WORKING DAY', 'MISTY', -0.3625, 79.625, 13.375746, 1977, 386), ('WINTER', 2012, 'JAN', 'NO HOLIDAY', 'MON', 'WORKING DAY', 'MISTY', 2.261651, 91.125, 7.417436, 2432, 387), ('WINTER', 2012, 'JAN', 'NO HOLIDAY', 'TUE', 'WORKING DAY', 'GOOD', 8.0975, 83.5833, 8.292389, 4339, 388), ('WINTER', 2012, 'JAN', 'NO HOLIDAY', 'WED', 'WORKING DAY', 'GOOD', 5.825849, 64.375, 10.791757, 4270, 389), ('WINTER', 2012, 'JAN', 'NO HOLIDAY', 'THU', 'WORKING DAY', 'MISTY', 8.058349, 76.9583, 4.9175186, 4075, 390), ('WINTER', 2012, 'JAN', 'NO HOLIDAY', 'FRI', 'WORKING DAY', 'MISTY', 11.975, 74.125, 22.958689, 3456, 391), ('WINTER', 2012, 'JAN', 'NO HOLIDAY', 'SAT', 'NO WORKING DAY', 'GOOD', 6.844151, 54.3333, 14.125543, 4023, 392), ('WINTER', 2012, 'JAN', 'NO HOLIDAY', 'SUN', 'NO WORKING DAY', 'GOOD', 5.2775, 31.125, 16.08335, 3243, 393), ('WINTER', 2012, 'JAN', 'NO HOLIDAY', 'MON', 'WORKING DAY', 'GOOD', 4.650849, 40.0833, 14.458064, 3624, 394), ('WINTER', 2012, 'JAN', 'NO HOLIDAY', 'TUE', 'WORKING DAY', 'GOOD', 10.33, 41.6667, 17.541739, 4509, 395), ('WINTER', 2012, 'FEB', 'NO HOLIDAY', 'WED', 'WORKING DAY', 'GOOD', 14.050849, 50.7917, 12.667489, 4579, 396), ('WINTER', 2012, 'FEB', 'NO HOLIDAY', 'THU', 'WORKING DAY', 'MISTY', 10.760849, 67.2917, 12.541529, 3761, 397), ('WINTER', 2012, 'FEB', 'NO HOLIDAY', 'FRI', 'WORKING DAY', 'GOOD', 6.726651, 52.6667, 11.959232, 4151, 398), ('WINTER', 2012, 'FEB', 'NO HOLIDAY', 'SAT', 'NO WORKING DAY', 'MISTY', 4.415849, 77.9583, 8.167032, 2832, 399), ('WINTER', 2012, 'FEB', 'NO HOLIDAY', 'SUN', 'NO WORKING DAY', 'MISTY', 4.494151, 68.7917, 11.791732, 2947, 400), ('WINTER', 2012, 'FEB', 'NO HOLIDAY', 'MON', 'WORKING DAY', 'GOOD', 5.282623, 62.2174, 10.3046, 3784, 401), ('WINTER', 2012, 'FEB', 'NO HOLIDAY', 'TUE', 'WORKING DAY', 'GOOD', 8.645849, 49.625, 9.874393, 4375, 402), ('WINTER', 2012, 'FEB', 'NO HOLIDAY', 'WED', 'WORKING DAY', 'MISTY', 4.063349, 72.2917, 8.959307, 2802, 403), ('WINTER', 2012, 'FEB', 'NO HOLIDAY', 'THU', 'WORKING DAY', 'GOOD', 4.455, 56.2083, 13.000479, 3830, 404), ('WINTER', 2012, 'FEB', 'NO HOLIDAY', 'FRI', 'WORKING DAY', 'MISTY', 5.199151, 54.0, 7.834243, 3831, 405), ('WINTER', 2012, 'FEB', 'NO HOLIDAY', 'SAT', 'NO WORKING DAY', 'RAIN/SNOW/STORM', 2.535849, 73.125, 19.416332, 2169, 406), ('WINTER', 2012, 'FEB', 'NO HOLIDAY', 'SUN', 'NO WORKING DAY', 'GOOD', -2.0075, 46.4583, 27.417204, 1529, 407), ('WINTER', 2012, 'FEB', 'NO HOLIDAY', 'MON', 'WORKING DAY', 'GOOD', 2.4575, 41.125, 11.207961, 3422, 408), ('WINTER', 2012, 'FEB', 'NO HOLIDAY', 'TUE', 'WORKING DAY', 'MISTY', 7.000849, 50.875, 9.458993, 3922, 409), ('WINTER', 2012, 'FEB', 'NO HOLIDAY', 'WED', 'WORKING DAY', 'GOOD', 8.371651, 53.125, 12.1672, 4169, 410), ('WINTER', 2012, 'FEB', 'NO HOLIDAY', 'THU', 'WORKING DAY', 'MISTY', 6.883349, 75.2917, 6.125475, 3005, 411), ('WINTER', 2012, 'FEB', 'NO HOLIDAY', 'FRI', 'WORKING DAY', 'GOOD', 8.136651, 63.4583, 13.791682, 4154, 412), ('WINTER', 2012, 'FEB', 'NO HOLIDAY', 'SAT', 'NO WORKING DAY', 'GOOD', 8.293349, 53.4583, 12.792243, 4318, 413), ('WINTER', 2012, 'FEB', 'NO HOLIDAY', 'SUN', 'NO WORKING DAY', 'MISTY', 5.16, 51.5833, 16.958504, 2689, 414), ('WINTER', 2012, 'FEB', 'HOLIDAY', 'MON', 'NO WORKING DAY', 'GOOD', 5.16, 50.7826, 15.348561, 3129, 415), ('WINTER', 2012, 'FEB', 'NO HOLIDAY', 'TUE', 'WORKING DAY', 'GOOD', 5.527822, 59.4348, 13.783039, 3777, 416), ('WINTER', 2012, 'FEB', 'NO HOLIDAY', 'WED', 'WORKING DAY', 'GOOD', 10.604151, 56.7917, 15.709557, 4773, 417), ('WINTER', 2012, 'FEB', 'NO HOLIDAY', 'THU', 'WORKING DAY', 'GOOD', 13.345849, 55.4583, 12.791171, 5062, 418), ('WINTER', 2012, 'FEB', 'NO HOLIDAY', 'FRI', 'WORKING DAY', 'MISTY', 11.1525, 73.75, 15.916989, 3487, 419), ('WINTER', 2012, 'FEB', 'NO HOLIDAY', 'SAT', 'NO WORKING DAY', 'GOOD', 5.669151, 39.5833, 28.250014, 2732, 420), ('WINTER', 2012, 'FEB', 'NO HOLIDAY', 'SUN', 'NO WORKING DAY', 'GOOD', 5.120849, 41.0, 13.750343, 3389, 421), ('WINTER', 2012, 'FEB', 'NO HOLIDAY', 'MON', 'WORKING DAY', 'GOOD', 9.233349, 49.0833, 17.958211, 4322, 422), ('WINTER', 2012, 'FEB', 'NO HOLIDAY', 'TUE', 'WORKING DAY', 'GOOD', 8.880849, 39.5833, 12.958939, 4363, 423), ('WINTER', 2012, 'FEB', 'NO HOLIDAY', 'WED', 'WORKING DAY', 'MISTY', 8.184356, 80.4783, 12.000839, 1834, 424), ('WINTER', 2012, 'MAR', 'NO HOLIDAY', 'THU', 'WORKING DAY', 'GOOD', 14.834151, 61.5417, 15.208129, 4990, 425), ('WINTER', 2012, 'MAR', 'NO HOLIDAY', 'FRI', 'WORKING DAY', 'MISTY', 8.606651, 65.7083, 9.708568, 3194, 426), ('WINTER', 2012, 'MAR', 'NO HOLIDAY', 'SAT', 'NO WORKING DAY', 'MISTY', 11.465849, 62.125, 10.792293, 4066, 427), ('WINTER', 2012, 'MAR', 'NO HOLIDAY', 'SUN', 'NO WORKING DAY', 'GOOD', 7.314151, 40.3333, 22.416257, 3423, 428), ('WINTER', 2012, 'MAR', 'NO HOLIDAY', 'MON', 'WORKING DAY', 'GOOD', 3.436651, 50.625, 15.333486, 3333, 429), ('WINTER', 2012, 'MAR', 'NO HOLIDAY', 'TUE', 'WORKING DAY', 'GOOD', 4.141651, 45.6667, 13.458625, 3956, 430), ('WINTER', 2012, 'MAR', 'NO HOLIDAY', 'WED', 'WORKING DAY', 'GOOD', 10.995849, 51.3333, 23.167193, 4916, 431), ('WINTER', 2012, 'MAR', 'NO HOLIDAY', 'THU', 'WORKING DAY', 'GOOD', 16.7925, 56.75, 29.584721, 5382, 432), ('WINTER', 2012, 'MAR', 'NO HOLIDAY', 'FRI', 'WORKING DAY', 'MISTY', 11.309151, 40.7083, 27.7916, 4569, 433), ('WINTER', 2012, 'MAR', 'NO HOLIDAY', 'SAT', 'NO WORKING DAY', 'GOOD', 5.5125, 35.0417, 15.12525, 4118, 434), ('WINTER', 2012, 'MAR', 'NO HOLIDAY', 'SUN', 'NO WORKING DAY', 'GOOD', 9.001733, 47.6957, 14.913329, 4911, 435), ('WINTER', 2012, 'MAR', 'NO HOLIDAY', 'MON', 'WORKING DAY', 'GOOD', 13.933349, 48.9167, 13.916771, 5298, 436), ('WINTER', 2012, 'MAR', 'NO HOLIDAY', 'TUE', 'WORKING DAY', 'GOOD', 18.555, 61.75, 15.87565, 5847, 437), ('WINTER', 2012, 'MAR', 'NO HOLIDAY', 'WED', 'WORKING DAY', 'GOOD', 18.9075, 50.7083, 7.709154, 6312, 438), ('WINTER', 2012, 'MAR', 'NO HOLIDAY', 'THU', 'WORKING DAY', 'GOOD', 18.2025, 57.9583, 10.042161, 6192, 439), ('WINTER', 2012, 'MAR', 'NO HOLIDAY', 'FRI', 'WORKING DAY', 'MISTY', 12.484151, 84.2083, 7.583864, 4378, 440), ('WINTER', 2012, 'MAR', 'NO HOLIDAY', 'SAT', 'NO WORKING DAY', 'MISTY', 16.165849, 75.5833, 7.417168, 7836, 441), ('WINTER', 2012, 'MAR', 'NO HOLIDAY', 'SUN', 'NO WORKING DAY', 'MISTY', 14.2075, 81.0, 8.501161, 5892, 442), ('WINTER', 2012, 'MAR', 'NO HOLIDAY', 'MON', 'WORKING DAY', 'GOOD', 17.615, 72.875, 10.875239, 6153, 443), ('WINTER', 2012, 'MAR', 'NO HOLIDAY', 'TUE', 'WORKING DAY', 'GOOD', 18.359151, 80.7917, 8.125157, 6093, 444), ('SPRING', 2012, 'MAR', 'NO HOLIDAY', 'WED', 'WORKING DAY', 'MISTY', 16.988349, 82.125, 6.0004061, 6230, 445), ('SPRING', 2012, 'MAR', 'NO HOLIDAY', 'THU', 'WORKING DAY', 'GOOD', 18.045849, 83.125, 7.876654, 6871, 446), ('SPRING', 2012, 'MAR', 'NO HOLIDAY', 'FRI', 'WORKING DAY', 'MISTY', 20.278349, 69.4167, 7.7921, 8362, 447), ('SPRING', 2012, 'MAR', 'NO HOLIDAY', 'SAT', 'NO WORKING DAY', 'MISTY', 15.6175, 88.5417, 12.916461, 3372, 448), ('SPRING', 2012, 'MAR', 'NO HOLIDAY', 'SUN', 'NO WORKING DAY', 'MISTY', 12.5625, 88.0833, 14.791925, 4996, 449), ('SPRING', 2012, 'MAR', 'NO HOLIDAY', 'MON', 'WORKING DAY', 'GOOD', 12.954151, 47.7917, 25.917007, 5558, 450), ('SPRING', 2012, 'MAR', 'NO HOLIDAY', 'TUE', 'WORKING DAY', 'GOOD', 7.196651, 29.0, 12.541864, 5102, 451), ('SPRING', 2012, 'MAR', 'NO HOLIDAY', 'WED', 'WORKING DAY', 'GOOD', 14.755849, 48.125, 19.541957, 5698, 452), ('SPRING', 2012, 'MAR', 'NO HOLIDAY', 'THU', 'WORKING DAY', 'GOOD', 15.225849, 43.9167, 21.41655, 6133, 453), ('SPRING', 2012, 'MAR', 'NO HOLIDAY', 'FRI', 'WORKING DAY', 'MISTY', 9.39, 58.0833, 9.250489, 5459, 454), ('SPRING', 2012, 'MAR', 'NO HOLIDAY', 'SAT', 'NO WORKING DAY', 'MISTY', 11.935849, 73.8333, 16.791339, 6235, 455), ('SPRING', 2012, 'APR', 'NO HOLIDAY', 'SUN', 'NO WORKING DAY', 'MISTY', 12.014151, 67.625, 11.541889, 6041, 456), ('SPRING', 2012, 'APR', 'NO HOLIDAY', 'MON', 'WORKING DAY', 'GOOD', 12.393911, 50.4348, 20.913313, 5936, 457), ('SPRING', 2012, 'APR', 'NO HOLIDAY', 'TUE', 'WORKING DAY', 'GOOD', 13.933349, 39.6667, 6.708911, 6772, 458), ('SPRING', 2012, 'APR', 'NO HOLIDAY', 'WED', 'WORKING DAY', 'GOOD', 17.458349, 46.9583, 12.125325, 6436, 459), ('SPRING', 2012, 'APR', 'NO HOLIDAY', 'THU', 'WORKING DAY', 'GOOD', 12.445, 37.4167, 14.708443, 6457, 460), ('SPRING', 2012, 'APR', 'NO HOLIDAY', 'FRI', 'WORKING DAY', 'GOOD', 10.956651, 37.7083, 20.125996, 6460, 461), ('SPRING', 2012, 'APR', 'NO HOLIDAY', 'SAT', 'NO WORKING DAY', 'GOOD', 12.5625, 25.4167, 18.416357, 6857, 462), ('SPRING', 2012, 'APR', 'NO HOLIDAY', 'SUN', 'NO WORKING DAY', 'GOOD', 15.5, 27.5833, 15.583932, 5169, 463), ('SPRING', 2012, 'APR', 'NO HOLIDAY', 'MON', 'WORKING DAY', 'GOOD', 14.990849, 31.75, 23.999132, 5585, 464), ('SPRING', 2012, 'APR', 'NO HOLIDAY', 'TUE', 'WORKING DAY', 'GOOD', 12.993349, 43.5, 16.708125, 5918, 465), ('SPRING', 2012, 'APR', 'NO HOLIDAY', 'WED', 'WORKING DAY', 'GOOD', 8.388712, 46.9565, 19.783358, 4862, 466), ('SPRING', 2012, 'APR', 'NO HOLIDAY', 'THU', 'WORKING DAY', 'GOOD', 10.6825, 46.625, 19.458743, 5409, 467), ('SPRING', 2012, 'APR', 'NO HOLIDAY', 'FRI', 'WORKING DAY', 'GOOD', 12.7975, 40.8333, 10.416557, 6398, 468), ('SPRING', 2012, 'APR', 'NO HOLIDAY', 'SAT', 'NO WORKING DAY', 'GOOD', 15.265, 50.2917, 12.791439, 7460, 469), ('SPRING', 2012, 'APR', 'NO HOLIDAY', 'SUN', 'NO WORKING DAY', 'GOOD', 20.513349, 50.7917, 15.083643, 7132, 470), ('SPRING', 2012, 'APR', 'HOLIDAY', 'MON', 'NO WORKING DAY', 'GOOD', 23.215849, 56.1667, 19.083543, 6370, 471), ('SPRING', 2012, 'APR', 'NO HOLIDAY', 'TUE', 'WORKING DAY', 'GOOD', 20.591651, 39.0417, 18.333143, 6691, 472), ('SPRING', 2012, 'APR', 'NO HOLIDAY', 'WED', 'WORKING DAY', 'MISTY', 13.776651, 56.9167, 11.250104, 4367, 473), ('SPRING', 2012, 'APR', 'NO HOLIDAY', 'THU', 'WORKING DAY', 'GOOD', 15.421651, 61.25, 4.4172564, 6565, 474), ('SPRING', 2012, 'APR', 'NO HOLIDAY', 'FRI', 'WORKING DAY', 'GOOD', 16.753349, 69.4583, 10.041357, 7290, 475), ('SPRING', 2012, 'APR', 'NO HOLIDAY', 'SAT', 'NO WORKING DAY', 'GOOD', 18.79, 68.2917, 19.000329, 6624, 476), ('SPRING', 2012, 'APR', 'NO HOLIDAY', 'SUN', 'NO WORKING DAY', 'RAIN/SNOW/STORM', 10.643349, 83.5417, 23.084582, 1027, 477), ('SPRING', 2012, 'APR', 'NO HOLIDAY', 'MON', 'WORKING DAY', 'MISTY', 7.118349, 76.6667, 20.334232, 3214, 478), ('SPRING', 2012, 'APR', 'NO HOLIDAY', 'TUE', 'WORKING DAY', 'GOOD', 11.426651, 45.4167, 16.708661, 5633, 479), ('SPRING', 2012, 'APR', 'NO HOLIDAY', 'WED', 'WORKING DAY', 'GOOD', 14.403349, 42.7917, 7.959064, 6196, 480), ('SPRING', 2012, 'APR', 'NO HOLIDAY', 'THU', 'WORKING DAY', 'MISTY', 15.421651, 75.6667, 11.833875, 5026, 481), ('SPRING', 2012, 'APR', 'NO HOLIDAY', 'FRI', 'WORKING DAY', 'GOOD', 13.5025, 40.0833, 23.291411, 6233, 482), ('SPRING', 2012, 'APR', 'NO HOLIDAY', 'SAT', 'NO WORKING DAY', 'MISTY', 9.703349, 48.9583, 8.708325, 4220, 483), ('SPRING', 2012, 'APR', 'NO HOLIDAY', 'SUN', 'NO WORKING DAY', 'GOOD', 13.541651, 58.7083, 7.832836, 6304, 484), ('SPRING', 2012, 'APR', 'NO HOLIDAY', 'MON', 'WORKING DAY', 'MISTY', 13.815849, 57.0, 11.499746, 5572, 485), ('SPRING', 2012, 'MAY', 'NO HOLIDAY', 'TUE', 'WORKING DAY', 'MISTY', 20.826651, 65.9583, 10.458432, 5740, 486), ('SPRING', 2012, 'MAY', 'NO HOLIDAY', 'WED', 'WORKING DAY', 'GOOD', 18.515849, 79.7083, 9.249886, 6169, 487), ('SPRING', 2012, 'MAY', 'NO HOLIDAY', 'THU', 'WORKING DAY', 'MISTY', 18.32, 76.8333, 8.957632, 6421, 488), ('SPRING', 2012, 'MAY', 'NO HOLIDAY', 'FRI', 'WORKING DAY', 'GOOD', 21.4925, 73.5417, 10.916846, 6296, 489), ('SPRING', 2012, 'MAY', 'NO HOLIDAY', 'SAT', 'NO WORKING DAY', 'MISTY', 21.218349, 75.6667, 10.250464, 6883, 490), ('SPRING', 2012, 'MAY', 'NO HOLIDAY', 'SUN', 'NO WORKING DAY', 'MISTY', 18.4375, 74.0, 10.041893, 6359, 491), ('SPRING', 2012, 'MAY', 'NO HOLIDAY', 'MON', 'WORKING DAY', 'MISTY', 17.2625, 66.4167, 15.458307, 6273, 492), ('SPRING', 2012, 'MAY', 'NO HOLIDAY', 'TUE', 'WORKING DAY', 'MISTY', 19.338349, 68.5833, 19.833943, 5728, 493), ('SPRING', 2012, 'MAY', 'NO HOLIDAY', 'WED', 'WORKING DAY', 'MISTY', 19.025, 74.4167, 14.499604, 4717, 494), ('SPRING', 2012, 'MAY', 'NO HOLIDAY', 'THU', 'WORKING DAY', 'GOOD', 15.774151, 55.2083, 21.042221, 6572, 495), ('SPRING', 2012, 'MAY', 'NO HOLIDAY', 'FRI', 'WORKING DAY', 'GOOD', 17.066651, 36.0417, 15.874779, 7030, 496), ('SPRING', 2012, 'MAY', 'NO HOLIDAY', 'SAT', 'NO WORKING DAY', 'GOOD', 18.515849, 48.0417, 8.249911, 7429, 497), ('SPRING', 2012, 'MAY', 'NO HOLIDAY', 'SUN', 'NO WORKING DAY', 'GOOD', 20.7875, 57.625, 15.082839, 6118, 498), ('SPRING', 2012, 'MAY', 'NO HOLIDAY', 'MON', 'WORKING DAY', 'MISTY', 18.946651, 78.9583, 14.250364, 2843, 499), ('SPRING', 2012, 'MAY', 'NO HOLIDAY', 'TUE', 'WORKING DAY', 'MISTY', 20.748349, 79.4583, 9.875264, 5115, 500), ('SPRING', 2012, 'MAY', 'NO HOLIDAY', 'WED', 'WORKING DAY', 'GOOD', 21.923349, 69.7917, 8.208304, 7424, 501), ('SPRING', 2012, 'MAY', 'NO HOLIDAY', 'THU', 'WORKING DAY', 'GOOD', 19.886651, 52.0, 15.374825, 7384, 502), ('SPRING', 2012, 'MAY', 'NO HOLIDAY', 'FRI', 'WORKING DAY', 'GOOD', 18.515849, 52.3333, 9.166739, 7639, 503), ('SPRING', 2012, 'MAY', 'NO HOLIDAY', 'SAT', 'NO WORKING DAY', 'GOOD', 20.2, 45.625, 5.626325, 8294, 504), ('SPRING', 2012, 'MAY', 'NO HOLIDAY', 'SUN', 'NO WORKING DAY', 'GOOD', 21.179151, 53.0417, 17.042589, 7129, 505), ('SPRING', 2012, 'MAY', 'NO HOLIDAY', 'MON', 'WORKING DAY', 'MISTY', 20.121651, 81.125, 15.624668, 4359, 506), ('SPRING', 2012, 'MAY', 'NO HOLIDAY', 'TUE', 'WORKING DAY', 'MISTY', 20.905, 76.5833, 7.917189, 6073, 507), ('SPRING', 2012, 'MAY', 'NO HOLIDAY', 'WED', 'WORKING DAY', 'MISTY', 21.218349, 77.4583, 6.834, 5260, 508), ('SPRING', 2012, 'MAY', 'NO HOLIDAY', 'THU', 'WORKING DAY', 'GOOD', 22.785, 71.6667, 11.584032, 6770, 509), ('SPRING', 2012, 'MAY', 'NO HOLIDAY', 'FRI', 'WORKING DAY', 'GOOD', 23.96, 74.7083, 9.41685, 6734, 510), ('SPRING', 2012, 'MAY', 'NO HOLIDAY', 'SAT', 'NO WORKING DAY', 'GOOD', 24.5475, 73.25, 13.332464, 6536, 511), ('SPRING', 2012, 'MAY', 'NO HOLIDAY', 'SUN', 'NO WORKING DAY', 'GOOD', 24.43, 69.7083, 14.416457, 6591, 512), ('SPRING', 2012, 'MAY', 'HOLIDAY', 'MON', 'NO WORKING DAY', 'GOOD', 25.4875, 67.625, 13.166907, 6043, 513), ('SPRING', 2012, 'MAY', 'NO HOLIDAY', 'TUE', 'WORKING DAY', 'GOOD', 25.9575, 68.4583, 19.7918, 5743, 514), ('SPRING', 2012, 'MAY', 'NO HOLIDAY', 'WED', 'WORKING DAY', 'MISTY', 22.863349, 67.0, 9.000043, 6855, 515), ('SPRING', 2012, 'MAY', 'NO HOLIDAY', 'THU', 'WORKING DAY', 'GOOD', 23.96, 49.2917, 13.083693, 7338, 516), ('SPRING', 2012, 'JUN', 'NO HOLIDAY', 'FRI', 'WORKING DAY', 'MISTY', 22.745849, 75.5417, 15.916721, 4127, 517), ('SPRING', 2012, 'JUN', 'NO HOLIDAY', 'SAT', 'NO WORKING DAY', 'GOOD', 19.416651, 54.9167, 12.499654, 8120, 518), ('SPRING', 2012, 'JUN', 'NO HOLIDAY', 'SUN', 'NO WORKING DAY', 'GOOD', 20.3175, 49.3333, 12.333829, 7641, 519), ('SPRING', 2012, 'JUN', 'NO HOLIDAY', 'MON', 'WORKING DAY', 'GOOD', 20.0825, 48.7083, 19.083811, 6998, 520), ('SPRING', 2012, 'JUN', 'NO HOLIDAY', 'TUE', 'WORKING DAY', 'MISTY', 17.419151, 61.3333, 14.041525, 7001, 521), ('SPRING', 2012, 'JUN', 'NO HOLIDAY', 'WED', 'WORKING DAY', 'GOOD', 18.045849, 61.125, 5.167375, 7055, 522), ('SPRING', 2012, 'JUN', 'NO HOLIDAY', 'THU', 'WORKING DAY', 'GOOD', 20.3175, 56.7083, 10.54245, 7494, 523), ('SPRING', 2012, 'JUN', 'NO HOLIDAY', 'FRI', 'WORKING DAY', 'GOOD', 22.510849, 46.7917, 11.750661, 7736, 524), ('SPRING', 2012, 'JUN', 'NO HOLIDAY', 'SAT', 'NO WORKING DAY', 'GOOD', 25.409151, 43.7083, 9.667229, 7498, 525), ('SPRING', 2012, 'JUN', 'NO HOLIDAY', 'SUN', 'NO WORKING DAY', 'GOOD', 26.153349, 53.8333, 8.959307, 6598, 526), ('SPRING', 2012, 'JUN', 'NO HOLIDAY', 'MON', 'WORKING DAY', 'MISTY', 25.879151, 58.7917, 13.916771, 6664, 527), ('SPRING', 2012, 'JUN', 'NO HOLIDAY', 'TUE', 'WORKING DAY', 'MISTY', 22.706651, 83.3333, 14.374582, 4972, 528), ('SPRING', 2012, 'JUN', 'NO HOLIDAY', 'WED', 'WORKING DAY', 'GOOD', 22.824151, 58.2083, 22.999693, 7421, 529), ('SPRING', 2012, 'JUN', 'NO HOLIDAY', 'THU', 'WORKING DAY', 'GOOD', 22.471651, 56.9583, 17.000111, 7363, 530), ('SPRING', 2012, 'JUN', 'NO HOLIDAY', 'FRI', 'WORKING DAY', 'GOOD', 22.040849, 58.9583, 11.833339, 7665, 531), ('SPRING', 2012, 'JUN', 'NO HOLIDAY', 'SAT', 'NO WORKING DAY', 'GOOD', 21.688349, 50.4167, 11.166689, 7702, 532), ('SPRING', 2012, 'JUN', 'NO HOLIDAY', 'SUN', 'NO WORKING DAY', 'GOOD', 19.8475, 59.875, 9.708568, 6978, 533), ('SPRING', 2012, 'JUN', 'NO HOLIDAY', 'MON', 'WORKING DAY', 'MISTY', 18.711651, 77.7917, 11.707982, 5099, 534), ('SPRING', 2012, 'JUN', 'NO HOLIDAY', 'TUE', 'WORKING DAY', 'GOOD', 24.351651, 69.0, 9.917139, 6825, 535), ('SPRING', 2012, 'JUN', 'NO HOLIDAY', 'WED', 'WORKING DAY', 'GOOD', 28.7775, 59.2083, 7.625404, 6211, 536), ('SUMMER', 2012, 'JUN', 'NO HOLIDAY', 'THU', 'WORKING DAY', 'GOOD', 29.874151, 56.7917, 7.958729, 5905, 537), ('SUMMER', 2012, 'JUN', 'NO HOLIDAY', 'FRI', 'WORKING DAY', 'GOOD', 28.5425, 57.375, 12.250414, 5823, 538), ('SUMMER', 2012, 'JUN', 'NO HOLIDAY', 'SAT', 'NO WORKING DAY', 'GOOD', 26.388349, 53.4583, 12.041307, 7458, 539), ('SUMMER', 2012, 'JUN', 'NO HOLIDAY', 'SUN', 'NO WORKING DAY', 'GOOD', 26.936651, 47.9167, 9.750175, 6891, 540), ('SUMMER', 2012, 'JUN', 'NO HOLIDAY', 'MON', 'WORKING DAY', 'GOOD', 25.644151, 50.4167, 20.125661, 6779, 541), ('SUMMER', 2012, 'JUN', 'NO HOLIDAY', 'TUE', 'WORKING DAY', 'GOOD', 21.649151, 37.3333, 23.292014, 7442, 542), ('SUMMER', 2012, 'JUN', 'NO HOLIDAY', 'WED', 'WORKING DAY', 'GOOD', 24.7825, 36.0, 18.208925, 7335, 543), ('SUMMER', 2012, 'JUN', 'NO HOLIDAY', 'THU', 'WORKING DAY', 'GOOD', 27.210849, 42.25, 11.50055, 6879, 544), ('SUMMER', 2012, 'JUN', 'NO HOLIDAY', 'FRI', 'WORKING DAY', 'GOOD', 31.205849, 48.875, 11.082939, 5463, 545), ('SUMMER', 2012, 'JUN', 'NO HOLIDAY', 'SAT', 'NO WORKING DAY', 'GOOD', 27.955, 60.125, 10.791757, 5687, 546), ('SUMMER', 2012, 'JUL', 'NO HOLIDAY', 'SUN', 'NO WORKING DAY', 'GOOD', 30.344151, 51.875, 11.291443, 5531, 547), ('SUMMER', 2012, 'JUL', 'NO HOLIDAY', 'MON', 'WORKING DAY', 'GOOD', 28.738349, 44.7083, 13.082889, 6227, 548), ('SUMMER', 2012, 'JUL', 'NO HOLIDAY', 'TUE', 'WORKING DAY', 'GOOD', 28.699151, 49.2083, 8.457879, 6660, 549), ('SUMMER', 2012, 'JUL', 'HOLIDAY', 'WED', 'NO WORKING DAY', 'GOOD', 29.090849, 53.875, 9.04165, 7403, 550), ('SUMMER', 2012, 'JUL', 'NO HOLIDAY', 'THU', 'WORKING DAY', 'GOOD', 30.8925, 45.7917, 12.999943, 6241, 551), ('SUMMER', 2012, 'JUL', 'NO HOLIDAY', 'FRI', 'WORKING DAY', 'GOOD', 30.931651, 45.0833, 9.791514, 6207, 552), ('SUMMER', 2012, 'JUL', 'NO HOLIDAY', 'SAT', 'NO WORKING DAY', 'GOOD', 32.498349, 49.2083, 10.958118, 4840, 553), ('SUMMER', 2012, 'JUL', 'NO HOLIDAY', 'SUN', 'NO WORKING DAY', 'GOOD', 30.6575, 57.375, 8.417143, 4672, 554), ('SUMMER', 2012, 'JUL', 'NO HOLIDAY', 'MON', 'WORKING DAY', 'MISTY', 25.409151, 68.3333, 12.125325, 6569, 555), ('SUMMER', 2012, 'JUL', 'NO HOLIDAY', 'TUE', 'WORKING DAY', 'MISTY', 25.879151, 66.75, 10.166379, 6290, 556), ('SUMMER', 2012, 'JUL', 'NO HOLIDAY', 'WED', 'WORKING DAY', 'GOOD', 25.683349, 63.3333, 10.166111, 7264, 557), ('SUMMER', 2012, 'JUL', 'NO HOLIDAY', 'THU', 'WORKING DAY', 'GOOD', 25.644151, 52.9583, 9.833925, 7446, 558), ('SUMMER', 2012, 'JUL', 'NO HOLIDAY', 'FRI', 'WORKING DAY', 'MISTY', 26.388349, 48.5833, 5.41695, 7499, 559), ('SUMMER', 2012, 'JUL', 'NO HOLIDAY', 'SAT', 'NO WORKING DAY', 'MISTY', 25.056651, 69.9167, 9.626493, 6969, 560), ('SUMMER', 2012, 'JUL', 'NO HOLIDAY', 'SUN', 'NO WORKING DAY', 'GOOD', 27.054151, 71.7917, 11.166689, 6031, 561), ('SUMMER', 2012, 'JUL', 'NO HOLIDAY', 'MON', 'WORKING DAY', 'GOOD', 27.876651, 64.5, 11.000529, 6830, 562), ('SUMMER', 2012, 'JUL', 'NO HOLIDAY', 'TUE', 'WORKING DAY', 'GOOD', 30.461651, 50.5833, 7.666743, 6786, 563), ('SUMMER', 2012, 'JUL', 'NO HOLIDAY', 'WED', 'WORKING DAY', 'GOOD', 29.286651, 57.7083, 9.208614, 5713, 564), ('SUMMER', 2012, 'JUL', 'NO HOLIDAY', 'THU', 'WORKING DAY', 'GOOD', 28.19, 60.0417, 11.083743, 6591, 565), ('SUMMER', 2012, 'JUL', 'NO HOLIDAY', 'FRI', 'WORKING DAY', 'MISTY', 23.294151, 84.4167, 14.000789, 5870, 566), ('SUMMER', 2012, 'JUL', 'NO HOLIDAY', 'SAT', 'NO WORKING DAY', 'RAIN/SNOW/STORM', 20.004151, 86.5417, 14.2911, 4459, 567), ('SUMMER', 2012, 'JUL', 'NO HOLIDAY', 'SUN', 'NO WORKING DAY', 'MISTY', 23.3725, 76.25, 6.2926936, 7410, 568), ('SUMMER', 2012, 'JUL', 'NO HOLIDAY', 'MON', 'WORKING DAY', 'GOOD', 26.858349, 69.4167, 9.291761, 6966, 569), ('SUMMER', 2012, 'JUL', 'NO HOLIDAY', 'TUE', 'WORKING DAY', 'GOOD', 27.289151, 65.5, 14.167418, 7592, 570), ('SUMMER', 2012, 'JUL', 'NO HOLIDAY', 'WED', 'WORKING DAY', 'GOOD', 26.035849, 45.0, 11.0416, 8173, 571), ('SUMMER', 2012, 'JUL', 'NO HOLIDAY', 'THU', 'WORKING DAY', 'GOOD', 28.503349, 59.6667, 19.082471, 6861, 572), ('SUMMER', 2012, 'JUL', 'NO HOLIDAY', 'FRI', 'WORKING DAY', 'GOOD', 28.738349, 59.4583, 10.250464, 6904, 573), ('SUMMER', 2012, 'JUL', 'NO HOLIDAY', 'SAT', 'NO WORKING DAY', 'GOOD', 27.524151, 61.3333, 10.54245, 6685, 574), ('SUMMER', 2012, 'JUL', 'NO HOLIDAY', 'SUN', 'NO WORKING DAY', 'GOOD', 25.918349, 62.375, 11.416532, 6597, 575), ('SUMMER', 2012, 'JUL', 'NO HOLIDAY', 'MON', 'WORKING DAY', 'GOOD', 26.349151, 66.875, 10.292339, 7105, 576), ('SUMMER', 2012, 'JUL', 'NO HOLIDAY', 'TUE', 'WORKING DAY', 'GOOD', 25.526651, 70.4167, 11.083475, 7216, 577), ('SUMMER', 2012, 'AUG', 'NO HOLIDAY', 'WED', 'WORKING DAY', 'GOOD', 25.7225, 67.75, 9.458993, 7580, 578), ('SUMMER', 2012, 'AUG', 'NO HOLIDAY', 'THU', 'WORKING DAY', 'GOOD', 27.3675, 65.9583, 8.666718, 7261, 579), ('SUMMER', 2012, 'AUG', 'NO HOLIDAY', 'FRI', 'WORKING DAY', 'MISTY', 27.994151, 64.25, 14.458064, 7175, 580), ('SUMMER', 2012, 'AUG', 'NO HOLIDAY', 'SAT', 'NO WORKING DAY', 'GOOD', 29.286651, 61.3333, 17.249686, 6824, 581), ('SUMMER', 2012, 'AUG', 'NO HOLIDAY', 'SUN', 'NO WORKING DAY', 'GOOD', 28.150849, 65.25, 19.458207, 5464, 582), ('SUMMER', 2012, 'AUG', 'NO HOLIDAY', 'MON', 'WORKING DAY', 'MISTY', 27.3675, 65.4167, 8.666718, 7013, 583), ('SUMMER', 2012, 'AUG', 'NO HOLIDAY', 'TUE', 'WORKING DAY', 'MISTY', 26.584151, 70.375, 7.832836, 7273, 584), ('SUMMER', 2012, 'AUG', 'NO HOLIDAY', 'WED', 'WORKING DAY', 'MISTY', 27.25, 67.2917, 7.4169, 7534, 585), ('SUMMER', 2012, 'AUG', 'NO HOLIDAY', 'THU', 'WORKING DAY', 'GOOD', 27.524151, 62.0417, 10.4587, 7286, 586), ('SUMMER', 2012, 'AUG', 'NO HOLIDAY', 'FRI', 'WORKING DAY', 'MISTY', 25.644151, 71.5833, 16.000471, 5786, 587), ('SUMMER', 2012, 'AUG', 'NO HOLIDAY', 'SAT', 'NO WORKING DAY', 'MISTY', 24.5475, 73.2917, 13.834093, 6299, 588), ('SUMMER', 2012, 'AUG', 'NO HOLIDAY', 'SUN', 'NO WORKING DAY', 'GOOD', 24.939151, 53.0417, 8.208304, 6544, 589), ('SUMMER', 2012, 'AUG', 'NO HOLIDAY', 'MON', 'WORKING DAY', 'GOOD', 25.879151, 54.5417, 9.126204, 6883, 590), ('SUMMER', 2012, 'AUG', 'NO HOLIDAY', 'TUE', 'WORKING DAY', 'GOOD', 26.153349, 68.6667, 11.333586, 6784, 591), ('SUMMER', 2012, 'AUG', 'NO HOLIDAY', 'WED', 'WORKING DAY', 'GOOD', 25.213349, 61.9583, 11.374657, 7347, 592), ('SUMMER', 2012, 'AUG', 'NO HOLIDAY', 'THU', 'WORKING DAY', 'GOOD', 25.800849, 51.9167, 9.500332, 7605, 593), ('SUMMER', 2012, 'AUG', 'NO HOLIDAY', 'FRI', 'WORKING DAY', 'GOOD', 25.996651, 57.0833, 15.500718, 7148, 594), ('SUMMER', 2012, 'AUG', 'NO HOLIDAY', 'SAT', 'NO WORKING DAY', 'GOOD', 23.881651, 60.3333, 11.917089, 7865, 595), ('SUMMER', 2012, 'AUG', 'NO HOLIDAY', 'SUN', 'NO WORKING DAY', 'MISTY', 21.884151, 71.1667, 5.79215, 4549, 596), ('SUMMER', 2012, 'AUG', 'NO HOLIDAY', 'MON', 'WORKING DAY', 'MISTY', 21.884151, 73.4167, 8.708593, 6530, 597), ('SUMMER', 2012, 'AUG', 'NO HOLIDAY', 'TUE', 'WORKING DAY', 'GOOD', 22.510849, 67.375, 4.8756436, 7006, 598), ('SUMMER', 2012, 'AUG', 'NO HOLIDAY', 'WED', 'WORKING DAY', 'GOOD', 23.3725, 67.7083, 4.7089811, 7375, 599), ('SUMMER', 2012, 'AUG', 'NO HOLIDAY', 'THU', 'WORKING DAY', 'GOOD', 24.704151, 63.5833, 5.6679186, 7765, 600), ('SUMMER', 2012, 'AUG', 'NO HOLIDAY', 'FRI', 'WORKING DAY', 'MISTY', 25.0175, 61.5, 4.8337686, 7582, 601), ('SUMMER', 2012, 'AUG', 'NO HOLIDAY', 'SAT', 'NO WORKING DAY', 'MISTY', 23.098349, 71.2917, 16.375336, 6053, 602), ('SUMMER', 2012, 'AUG', 'NO HOLIDAY', 'SUN', 'NO WORKING DAY', 'MISTY', 22.706651, 84.5833, 15.333486, 5255, 603), ('SUMMER', 2012, 'AUG', 'NO HOLIDAY', 'MON', 'WORKING DAY', 'GOOD', 25.056651, 73.0417, 8.625111, 6917, 604), ('SUMMER', 2012, 'AUG', 'NO HOLIDAY', 'TUE', 'WORKING DAY', 'GOOD', 26.231651, 62.0, 12.791975, 7040, 605), ('SUMMER', 2012, 'AUG', 'NO HOLIDAY', 'WED', 'WORKING DAY', 'GOOD', 24.195, 55.2083, 7.541654, 7697, 606), ('SUMMER', 2012, 'AUG', 'NO HOLIDAY', 'THU', 'WORKING DAY', 'GOOD', 25.213349, 59.0417, 5.1668189, 7713, 607), ('SUMMER', 2012, 'AUG', 'NO HOLIDAY', 'FRI', 'WORKING DAY', 'GOOD', 27.915849, 58.75, 11.291711, 7350, 608), ('SUMMER', 2012, 'SEP', 'NO HOLIDAY', 'SAT', 'NO WORKING DAY', 'MISTY', 27.406651, 63.8333, 7.583529, 6140, 609), ('SUMMER', 2012, 'SEP', 'NO HOLIDAY', 'SUN', 'NO WORKING DAY', 'MISTY', 24.743349, 81.5, 4.2927436, 5810, 610), ('SUMMER', 2012, 'SEP', 'HOLIDAY', 'MON', 'NO WORKING DAY', 'GOOD', 25.2525, 79.0833, 10.125107, 6034, 611), ('SUMMER', 2012, 'SEP', 'NO HOLIDAY', 'TUE', 'WORKING DAY', 'GOOD', 26.114151, 75.5, 15.833507, 6864, 612), ('SUMMER', 2012, 'SEP', 'NO HOLIDAY', 'WED', 'WORKING DAY', 'GOOD', 26.623349, 74.125, 12.583136, 7112, 613), ('SUMMER', 2012, 'SEP', 'NO HOLIDAY', 'THU', 'WORKING DAY', 'MISTY', 24.743349, 81.0417, 9.542207, 6203, 614), ('SUMMER', 2012, 'SEP', 'NO HOLIDAY', 'FRI', 'WORKING DAY', 'GOOD', 25.056651, 73.625, 11.500282, 7504, 615), ('SUMMER', 2012, 'SEP', 'NO HOLIDAY', 'SAT', 'NO WORKING DAY', 'MISTY', 22.980849, 79.9167, 18.833968, 5976, 616), ('SUMMER', 2012, 'SEP', 'NO HOLIDAY', 'SUN', 'NO WORKING DAY', 'GOOD', 20.67, 54.75, 15.041232, 8227, 617), ('SUMMER', 2012, 'SEP', 'NO HOLIDAY', 'MON', 'WORKING DAY', 'GOOD', 19.416651, 50.375, 17.333771, 7525, 618), ('SUMMER', 2012, 'SEP', 'NO HOLIDAY', 'TUE', 'WORKING DAY', 'GOOD', 19.1425, 52.0, 6.1676314, 7767, 619), ('SUMMER', 2012, 'SEP', 'NO HOLIDAY', 'WED', 'WORKING DAY', 'GOOD', 20.160849, 57.7083, 8.833682, 7870, 620), ('SUMMER', 2012, 'SEP', 'NO HOLIDAY', 'THU', 'WORKING DAY', 'GOOD', 20.7875, 63.7083, 5.5422936, 7804, 621), ('SUMMER', 2012, 'SEP', 'NO HOLIDAY', 'FRI', 'WORKING DAY', 'GOOD', 21.766651, 67.25, 6.958821, 8009, 622), ('SUMMER', 2012, 'SEP', 'NO HOLIDAY', 'SAT', 'NO WORKING DAY', 'GOOD', 20.591651, 50.1667, 16.583907, 8714, 623), ('SUMMER', 2012, 'SEP', 'NO HOLIDAY', 'SUN', 'NO WORKING DAY', 'GOOD', 19.26, 57.0, 6.0422811, 7333, 624), ('SUMMER', 2012, 'SEP', 'NO HOLIDAY', 'MON', 'WORKING DAY', 'MISTY', 19.299151, 73.4583, 10.166714, 6869, 625), ('SUMMER', 2012, 'SEP', 'NO HOLIDAY', 'TUE', 'WORKING DAY', 'MISTY', 21.296651, 87.25, 23.958329, 4073, 626), ('SUMMER', 2012, 'SEP', 'NO HOLIDAY', 'WED', 'WORKING DAY', 'GOOD', 17.9675, 53.6667, 14.416725, 7591, 627), ('SUMMER', 2012, 'SEP', 'NO HOLIDAY', 'THU', 'WORKING DAY', 'GOOD', 17.693349, 61.8333, 7.917189, 7720, 628), ('SUMMER', 2012, 'SEP', 'NO HOLIDAY', 'FRI', 'WORKING DAY', 'GOOD', 20.160849, 66.875, 10.333343, 8167, 629), ('SUMMER', 2012, 'SEP', 'NO HOLIDAY', 'SAT', 'NO WORKING DAY', 'GOOD', 22.55, 64.6667, 19.000061, 8395, 630), ('FALL', 2012, 'SEP', 'NO HOLIDAY', 'SUN', 'NO WORKING DAY', 'GOOD', 16.870849, 46.7083, 14.958286, 7907, 631), ('FALL', 2012, 'SEP', 'NO HOLIDAY', 'MON', 'WORKING DAY', 'GOOD', 16.165849, 49.2917, 9.541068, 7436, 632), ('FALL', 2012, 'SEP', 'NO HOLIDAY', 'TUE', 'WORKING DAY', 'GOOD', 17.85, 57.0, 15.833507, 7538, 633), ('FALL', 2012, 'SEP', 'NO HOLIDAY', 'WED', 'WORKING DAY', 'GOOD', 21.845, 63.0833, 16.3748, 7733, 634), ('FALL', 2012, 'SEP', 'NO HOLIDAY', 'THU', 'WORKING DAY', 'MISTY', 22.55, 69.0833, 9.000914, 7393, 635), ('FALL', 2012, 'SEP', 'NO HOLIDAY', 'FRI', 'WORKING DAY', 'MISTY', 21.100849, 69.0, 10.999993, 7415, 636), ('FALL', 2012, 'SEP', 'NO HOLIDAY', 'SAT', 'NO WORKING DAY', 'GOOD', 17.4975, 54.2917, 15.249468, 8555, 637), ('FALL', 2012, 'SEP', 'NO HOLIDAY', 'SUN', 'NO WORKING DAY', 'GOOD', 16.753349, 58.3333, 9.042186, 6889, 638), ('FALL', 2012, 'OCT', 'NO HOLIDAY', 'MON', 'WORKING DAY', 'MISTY', 16.479151, 64.9167, 6.0838814, 6778, 639), ('FALL', 2012, 'OCT', 'NO HOLIDAY', 'TUE', 'WORKING DAY', 'RAIN/SNOW/STORM', 19.769151, 87.1667, 6.999825, 4639, 640), ('FALL', 2012, 'OCT', 'NO HOLIDAY', 'WED', 'WORKING DAY', 'MISTY', 22.9025, 79.375, 4.4585686, 7572, 641), ('FALL', 2012, 'OCT', 'NO HOLIDAY', 'THU', 'WORKING DAY', 'MISTY', 22.9025, 72.2917, 7.875582, 7328, 642), ('FALL', 2012, 'OCT', 'NO HOLIDAY', 'FRI', 'WORKING DAY', 'GOOD', 20.905, 62.75, 7.12545, 8156, 643), ('FALL', 2012, 'OCT', 'NO HOLIDAY', 'SAT', 'NO WORKING DAY', 'GOOD', 18.045849, 66.4167, 17.957675, 7965, 644), ('FALL', 2012, 'OCT', 'NO HOLIDAY', 'SUN', 'NO WORKING DAY', 'MISTY', 11.544151, 70.8333, 9.457854, 3510, 645), ('FALL', 2012, 'OCT', 'HOLIDAY', 'MON', 'NO WORKING DAY', 'MISTY', 10.016651, 70.9583, 12.708493, 5478, 646), ('FALL', 2012, 'OCT', 'NO HOLIDAY', 'TUE', 'WORKING DAY', 'MISTY', 12.993349, 76.1667, 12.7501, 6392, 647), ('FALL', 2012, 'OCT', 'NO HOLIDAY', 'WED', 'WORKING DAY', 'GOOD', 16.165849, 63.0833, 12.584007, 7691, 648), ('FALL', 2012, 'OCT', 'NO HOLIDAY', 'THU', 'WORKING DAY', 'GOOD', 12.445, 46.3333, 12.166932, 7570, 649), ('FALL', 2012, 'OCT', 'NO HOLIDAY', 'FRI', 'WORKING DAY', 'GOOD', 12.5625, 53.9167, 15.751164, 7282, 650), ('FALL', 2012, 'OCT', 'NO HOLIDAY', 'SAT', 'NO WORKING DAY', 'GOOD', 10.486651, 49.4583, 9.791514, 7109, 651), ('FALL', 2012, 'OCT', 'NO HOLIDAY', 'SUN', 'NO WORKING DAY', 'GOOD', 16.518349, 64.0417, 18.667004, 6639, 652), ('FALL', 2012, 'OCT', 'NO HOLIDAY', 'MON', 'WORKING DAY', 'MISTY', 18.398349, 70.75, 19.834479, 5875, 653), ('FALL', 2012, 'OCT', 'NO HOLIDAY', 'TUE', 'WORKING DAY', 'GOOD', 14.011651, 55.8333, 12.208807, 7534, 654), ('FALL', 2012, 'OCT', 'NO HOLIDAY', 'WED', 'WORKING DAY', 'GOOD', 13.424151, 69.2917, 6.791857, 7461, 655), ('FALL', 2012, 'OCT', 'NO HOLIDAY', 'THU', 'WORKING DAY', 'MISTY', 16.5575, 72.8333, 15.874779, 7509, 656), ('FALL', 2012, 'OCT', 'NO HOLIDAY', 'FRI', 'WORKING DAY', 'MISTY', 18.476651, 81.5, 9.041918, 5424, 657), ('FALL', 2012, 'OCT', 'NO HOLIDAY', 'SAT', 'NO WORKING DAY', 'GOOD', 14.755849, 57.2917, 7.874979, 8090, 658), ('FALL', 2012, 'OCT', 'NO HOLIDAY', 'SUN', 'NO WORKING DAY', 'GOOD', 13.815849, 51.0, 11.125618, 6824, 659), ('FALL', 2012, 'OCT', 'NO HOLIDAY', 'MON', 'WORKING DAY', 'GOOD', 14.9125, 56.8333, 5.4593811, 7058, 660), ('FALL', 2012, 'OCT', 'NO HOLIDAY', 'TUE', 'WORKING DAY', 'GOOD', 17.575849, 64.1667, 6.3345686, 7466, 661), ('FALL', 2012, 'OCT', 'NO HOLIDAY', 'WED', 'WORKING DAY', 'GOOD', 19.6125, 63.625, 4.8762064, 7693, 662), ('FALL', 2012, 'OCT', 'NO HOLIDAY', 'THU', 'WORKING DAY', 'MISTY', 17.85, 80.0417, 8.333125, 7359, 663), ('FALL', 2012, 'OCT', 'NO HOLIDAY', 'FRI', 'WORKING DAY', 'MISTY', 17.654151, 80.7083, 8.875289, 7444, 664), ('FALL', 2012, 'OCT', 'NO HOLIDAY', 'SAT', 'NO WORKING DAY', 'MISTY', 16.91, 72.0, 15.791364, 7852, 665), ('FALL', 2012, 'OCT', 'NO HOLIDAY', 'SUN', 'NO WORKING DAY', 'MISTY', 14.4425, 69.4583, 26.666536, 4459, 666), ('FALL', 2012, 'OCT', 'NO HOLIDAY', 'MON', 'WORKING DAY', 'RAIN/SNOW/STORM', 12.68, 88.0, 23.9994, 22, 667), ('FALL', 2012, 'OCT', 'NO HOLIDAY', 'TUE', 'WORKING DAY', 'MISTY', 6.954554, 82.5455, 14.271603, 1096, 668), ('FALL', 2012, 'OCT', 'NO HOLIDAY', 'WED', 'WORKING DAY', 'MISTY', 8.8025, 66.6667, 11.166689, 5566, 669), ('FALL', 2012, 'NOV', 'NO HOLIDAY', 'THU', 'WORKING DAY', 'MISTY', 9.194151, 58.1667, 10.542182, 5986, 670), ('FALL', 2012, 'NOV', 'NO HOLIDAY', 'FRI', 'WORKING DAY', 'GOOD', 8.685, 52.2083, 17.833725, 5847, 671), ('FALL', 2012, 'NOV', 'NO HOLIDAY', 'SAT', 'NO WORKING DAY', 'MISTY', 8.136651, 49.125, 18.125443, 5138, 672), ('FALL', 2012, 'NOV', 'NO HOLIDAY', 'SUN', 'NO WORKING DAY', 'GOOD', 7.314151, 53.2917, 12.000236, 5107, 673), ('FALL', 2012, 'NOV', 'NO HOLIDAY', 'MON', 'WORKING DAY', 'GOOD', 7.000849, 49.4167, 15.833775, 5259, 674), ('FALL', 2012, 'NOV', 'NO HOLIDAY', 'TUE', 'WORKING DAY', 'GOOD', 5.199151, 56.7083, 11.625371, 5686, 675), ('FALL', 2012, 'NOV', 'NO HOLIDAY', 'WED', 'WORKING DAY', 'MISTY', 5.904151, 54.75, 20.375236, 5035, 676), ('FALL', 2012, 'NOV', 'NO HOLIDAY', 'THU', 'WORKING DAY', 'GOOD', 8.552178, 33.3478, 23.304945, 5315, 677), ('FALL', 2012, 'NOV', 'NO HOLIDAY', 'FRI', 'WORKING DAY', 'GOOD', 8.998349, 54.0833, 14.375386, 5992, 678), ('FALL', 2012, 'NOV', 'NO HOLIDAY', 'SAT', 'NO WORKING DAY', 'GOOD', 10.290849, 64.5417, 3.8756686, 6536, 679), ('FALL', 2012, 'NOV', 'NO HOLIDAY', 'SUN', 'NO WORKING DAY', 'GOOD', 11.779151, 65.9167, 8.5425, 6852, 680), ('FALL', 2012, 'NOV', 'HOLIDAY', 'MON', 'NO WORKING DAY', 'GOOD', 14.795, 74.1667, 11.625639, 6269, 681), ('FALL', 2012, 'NOV', 'NO HOLIDAY', 'TUE', 'WORKING DAY', 'MISTY', 8.136651, 66.2917, 22.917082, 4094, 682), ('FALL', 2012, 'NOV', 'NO HOLIDAY', 'WED', 'WORKING DAY', 'GOOD', 5.590849, 55.2083, 13.374875, 5495, 683), ('FALL', 2012, 'NOV', 'NO HOLIDAY', 'THU', 'WORKING DAY', 'MISTY', 7.118349, 62.0417, 10.250129, 5445, 684), ('FALL', 2012, 'NOV', 'NO HOLIDAY', 'FRI', 'WORKING DAY', 'GOOD', 8.215, 52.4583, 11.458675, 5698, 685), ('FALL', 2012, 'NOV', 'NO HOLIDAY', 'SAT', 'NO WORKING DAY', 'GOOD', 7.275, 54.5417, 12.041843, 5629, 686), ('FALL', 2012, 'NOV', 'NO HOLIDAY', 'SUN', 'NO WORKING DAY', 'GOOD', 8.0975, 69.2917, 15.250004, 4669, 687), ('FALL', 2012, 'NOV', 'NO HOLIDAY', 'MON', 'WORKING DAY', 'MISTY', 9.899151, 62.3333, 15.749489, 5499, 688), ('FALL', 2012, 'NOV', 'NO HOLIDAY', 'TUE', 'WORKING DAY', 'MISTY', 9.585849, 68.5, 5.542575, 5634, 689), ('FALL', 2012, 'NOV', 'NO HOLIDAY', 'WED', 'WORKING DAY', 'GOOD', 8.606651, 61.375, 6.917482, 5146, 690), ('FALL', 2012, 'NOV', 'HOLIDAY', 'THU', 'NO WORKING DAY', 'GOOD', 7.98, 58.0417, 3.5423436, 2425, 691), ('FALL', 2012, 'NOV', 'NO HOLIDAY', 'FRI', 'WORKING DAY', 'GOOD', 9.311651, 56.875, 9.917407, 3910, 692), ('FALL', 2012, 'NOV', 'NO HOLIDAY', 'SAT', 'NO WORKING DAY', 'GOOD', 5.081651, 40.4583, 25.250357, 2277, 693), ('FALL', 2012, 'NOV', 'NO HOLIDAY', 'SUN', 'NO WORKING DAY', 'GOOD', 3.554151, 46.8333, 10.0835, 2424, 694), ('FALL', 2012, 'NOV', 'NO HOLIDAY', 'MON', 'WORKING DAY', 'GOOD', 6.726651, 53.5417, 3.12555, 5087, 695), ('FALL', 2012, 'NOV', 'NO HOLIDAY', 'TUE', 'WORKING DAY', 'MISTY', 5.708349, 78.6667, 15.916654, 3959, 696), ('FALL', 2012, 'NOV', 'NO HOLIDAY', 'WED', 'WORKING DAY', 'GOOD', 5.943349, 50.625, 14.125007, 5260, 697), ('FALL', 2012, 'NOV', 'NO HOLIDAY', 'THU', 'WORKING DAY', 'GOOD', 5.20089, 55.5652, 7.739974, 5323, 698), ('FALL', 2012, 'NOV', 'NO HOLIDAY', 'FRI', 'WORKING DAY', 'GOOD', 6.021651, 64.9583, 3.9175436, 5668, 699), ('FALL', 2012, 'DEC', 'NO HOLIDAY', 'SAT', 'NO WORKING DAY', 'MISTY', 6.021651, 80.6667, 4.0001814, 5191, 700), ('FALL', 2012, 'DEC', 'NO HOLIDAY', 'SUN', 'NO WORKING DAY', 'MISTY', 8.3325, 82.3333, 8.333393, 4649, 701), ('FALL', 2012, 'DEC', 'NO HOLIDAY', 'MON', 'WORKING DAY', 'GOOD', 13.2675, 76.75, 5.5422936, 6234, 702), ('FALL', 2012, 'DEC', 'NO HOLIDAY', 'TUE', 'WORKING DAY', 'GOOD', 14.364151, 73.375, 11.666643, 6606, 703), ('FALL', 2012, 'DEC', 'NO HOLIDAY', 'WED', 'WORKING DAY', 'GOOD', 12.601651, 48.5, 21.709407, 5729, 704), ('FALL', 2012, 'DEC', 'NO HOLIDAY', 'THU', 'WORKING DAY', 'GOOD', 4.024151, 50.875, 11.708518, 5375, 705), ('FALL', 2012, 'DEC', 'NO HOLIDAY', 'FRI', 'WORKING DAY', 'MISTY', 7.079151, 76.4167, 8.7502, 5008, 706), ('FALL', 2012, 'DEC', 'NO HOLIDAY', 'SAT', 'NO WORKING DAY', 'MISTY', 9.938349, 91.125, 6.792393, 5582, 707), ('FALL', 2012, 'DEC', 'NO HOLIDAY', 'SUN', 'NO WORKING DAY', 'MISTY', 10.055849, 90.5417, 10.584325, 3228, 708), ('FALL', 2012, 'DEC', 'NO HOLIDAY', 'MON', 'WORKING DAY', 'MISTY', 12.484151, 92.5, 12.750636, 5170, 709), ('FALL', 2012, 'DEC', 'NO HOLIDAY', 'TUE', 'WORKING DAY', 'MISTY', 8.606651, 59.6667, 19.834479, 5501, 710), ('FALL', 2012, 'DEC', 'NO HOLIDAY', 'WED', 'WORKING DAY', 'MISTY', 5.9825, 53.8333, 10.916779, 5319, 711), ('FALL', 2012, 'DEC', 'NO HOLIDAY', 'THU', 'WORKING DAY', 'GOOD', 5.904151, 48.5833, 11.666643, 5532, 712), ('FALL', 2012, 'DEC', 'NO HOLIDAY', 'FRI', 'WORKING DAY', 'GOOD', 5.238349, 64.2917, 8.792343, 5611, 713), ('FALL', 2012, 'DEC', 'NO HOLIDAY', 'SAT', 'NO WORKING DAY', 'GOOD', 7.235849, 65.0417, 7.12545, 5047, 714), ('FALL', 2012, 'DEC', 'NO HOLIDAY', 'SUN', 'NO WORKING DAY', 'MISTY', 9.0375, 83.875, 6.749714, 3786, 715), ('FALL', 2012, 'DEC', 'NO HOLIDAY', 'MON', 'WORKING DAY', 'MISTY', 10.486651, 90.7083, 6.5833061, 4585, 716), ('FALL', 2012, 'DEC', 'NO HOLIDAY', 'TUE', 'WORKING DAY', 'GOOD', 11.309151, 66.625, 14.834068, 5557, 717), ('FALL', 2012, 'DEC', 'NO HOLIDAY', 'WED', 'WORKING DAY', 'GOOD', 7.6275, 62.5417, 12.334164, 5267, 718), ('FALL', 2012, 'DEC', 'NO HOLIDAY', 'THU', 'WORKING DAY', 'MISTY', 7.51, 66.7917, 8.875021, 4128, 719), ('WINTER', 2012, 'DEC', 'NO HOLIDAY', 'FRI', 'WORKING DAY', 'MISTY', 7.353349, 55.6667, 25.083661, 3623, 720), ('WINTER', 2012, 'DEC', 'NO HOLIDAY', 'SAT', 'NO WORKING DAY', 'GOOD', 4.494151, 44.125, 27.292182, 1749, 721), ('WINTER', 2012, 'DEC', 'NO HOLIDAY', 'SUN', 'NO WORKING DAY', 'GOOD', 3.554151, 51.5417, 8.916561, 1787, 722), ('WINTER', 2012, 'DEC', 'NO HOLIDAY', 'MON', 'WORKING DAY', 'MISTY', 2.871288, 79.1304, 5.1744368, 920, 723), ('WINTER', 2012, 'DEC', 'HOLIDAY', 'TUE', 'NO WORKING DAY', 'MISTY', 5.691288, 73.4783, 11.304642, 1013, 724), ('WINTER', 2012, 'DEC', 'NO HOLIDAY', 'WED', 'WORKING DAY', 'RAIN/SNOW/STORM', 3.436651, 82.3333, 21.208582, 441, 725), ('WINTER', 2012, 'DEC', 'NO HOLIDAY', 'THU', 'WORKING DAY', 'MISTY', 3.945849, 65.2917, 23.458911, 2114, 726), ('WINTER', 2012, 'DEC', 'NO HOLIDAY', 'FRI', 'WORKING DAY', 'MISTY', 3.906651, 59.0, 10.416557, 3095, 727), ('WINTER', 2012, 'DEC', 'NO HOLIDAY', 'SAT', 'NO WORKING DAY', 'MISTY', 3.906651, 75.2917, 8.333661, 1341, 728), ('WINTER', 2012, 'DEC', 'NO HOLIDAY', 'SUN', 'NO WORKING DAY', 'GOOD', 4.024151, 48.3333, 23.500518, 1796, 729), ('WINTER', 2012, 'DEC', 'NO HOLIDAY', 'MON', 'WORKING DAY', 'MISTY', 2.144151, 57.75, 10.374682, 2729, 730)]\n"
     ]
    }
   ],
   "source": [
    "mycursor.execute(bikes_hdf.select_statement)\n",
    "\n",
    "#Get all records\n",
    "result=mycursor.fetchall()\n",
    "\n",
    "#Display returned records\n",
    "print(f\"All {len(result)} records: {result}\")\n"
   ]
  },
  {
   "cell_type": "markdown",
   "id": "6450f8d5-e38b-47e1-b231-8a9dff0776c0",
   "metadata": {},
   "source": [
    "As stated above the `collect()` method returns a Pandas DataFrame, and therefore Pandas methods can be applied to it, like `head()` to output a few records..."
   ]
  },
  {
   "cell_type": "code",
   "execution_count": 54,
   "id": "d000f49f-1969-45a1-86a1-7d93d0c59b0c",
   "metadata": {},
   "outputs": [
    {
     "data": {
      "text/html": [
       "<div>\n",
       "<style scoped>\n",
       "    .dataframe tbody tr th:only-of-type {\n",
       "        vertical-align: middle;\n",
       "    }\n",
       "\n",
       "    .dataframe tbody tr th {\n",
       "        vertical-align: top;\n",
       "    }\n",
       "\n",
       "    .dataframe thead th {\n",
       "        text-align: right;\n",
       "    }\n",
       "</style>\n",
       "<table border=\"1\" class=\"dataframe\">\n",
       "  <thead>\n",
       "    <tr style=\"text-align: right;\">\n",
       "      <th></th>\n",
       "      <th>season</th>\n",
       "      <th>yr</th>\n",
       "      <th>mnth</th>\n",
       "      <th>holiday</th>\n",
       "      <th>weekday</th>\n",
       "      <th>workingday</th>\n",
       "      <th>weathersit</th>\n",
       "      <th>temp</th>\n",
       "      <th>hum</th>\n",
       "      <th>windspeed</th>\n",
       "      <th>cnt</th>\n",
       "      <th>days_since_2011</th>\n",
       "    </tr>\n",
       "  </thead>\n",
       "  <tbody>\n",
       "    <tr>\n",
       "      <th>0</th>\n",
       "      <td>WINTER</td>\n",
       "      <td>2011</td>\n",
       "      <td>JAN</td>\n",
       "      <td>NO HOLIDAY</td>\n",
       "      <td>SAT</td>\n",
       "      <td>NO WORKING DAY</td>\n",
       "      <td>MISTY</td>\n",
       "      <td>8.175849</td>\n",
       "      <td>80.5833</td>\n",
       "      <td>10.749882</td>\n",
       "      <td>985</td>\n",
       "      <td>0</td>\n",
       "    </tr>\n",
       "    <tr>\n",
       "      <th>1</th>\n",
       "      <td>WINTER</td>\n",
       "      <td>2011</td>\n",
       "      <td>JAN</td>\n",
       "      <td>NO HOLIDAY</td>\n",
       "      <td>SUN</td>\n",
       "      <td>NO WORKING DAY</td>\n",
       "      <td>MISTY</td>\n",
       "      <td>9.083466</td>\n",
       "      <td>69.6087</td>\n",
       "      <td>16.652113</td>\n",
       "      <td>801</td>\n",
       "      <td>1</td>\n",
       "    </tr>\n",
       "    <tr>\n",
       "      <th>2</th>\n",
       "      <td>WINTER</td>\n",
       "      <td>2011</td>\n",
       "      <td>JAN</td>\n",
       "      <td>NO HOLIDAY</td>\n",
       "      <td>MON</td>\n",
       "      <td>WORKING DAY</td>\n",
       "      <td>GOOD</td>\n",
       "      <td>1.229108</td>\n",
       "      <td>43.7273</td>\n",
       "      <td>16.636703</td>\n",
       "      <td>1349</td>\n",
       "      <td>2</td>\n",
       "    </tr>\n",
       "    <tr>\n",
       "      <th>3</th>\n",
       "      <td>WINTER</td>\n",
       "      <td>2011</td>\n",
       "      <td>JAN</td>\n",
       "      <td>NO HOLIDAY</td>\n",
       "      <td>TUE</td>\n",
       "      <td>WORKING DAY</td>\n",
       "      <td>GOOD</td>\n",
       "      <td>1.400000</td>\n",
       "      <td>59.0435</td>\n",
       "      <td>10.739832</td>\n",
       "      <td>1562</td>\n",
       "      <td>3</td>\n",
       "    </tr>\n",
       "    <tr>\n",
       "      <th>4</th>\n",
       "      <td>WINTER</td>\n",
       "      <td>2011</td>\n",
       "      <td>JAN</td>\n",
       "      <td>NO HOLIDAY</td>\n",
       "      <td>WED</td>\n",
       "      <td>WORKING DAY</td>\n",
       "      <td>GOOD</td>\n",
       "      <td>2.666979</td>\n",
       "      <td>43.6957</td>\n",
       "      <td>12.522300</td>\n",
       "      <td>1600</td>\n",
       "      <td>4</td>\n",
       "    </tr>\n",
       "    <tr>\n",
       "      <th>5</th>\n",
       "      <td>WINTER</td>\n",
       "      <td>2011</td>\n",
       "      <td>JAN</td>\n",
       "      <td>NO HOLIDAY</td>\n",
       "      <td>THU</td>\n",
       "      <td>WORKING DAY</td>\n",
       "      <td>GOOD</td>\n",
       "      <td>1.604356</td>\n",
       "      <td>51.8261</td>\n",
       "      <td>6.000868</td>\n",
       "      <td>1606</td>\n",
       "      <td>5</td>\n",
       "    </tr>\n",
       "    <tr>\n",
       "      <th>6</th>\n",
       "      <td>WINTER</td>\n",
       "      <td>2011</td>\n",
       "      <td>JAN</td>\n",
       "      <td>NO HOLIDAY</td>\n",
       "      <td>FRI</td>\n",
       "      <td>WORKING DAY</td>\n",
       "      <td>MISTY</td>\n",
       "      <td>1.236534</td>\n",
       "      <td>49.8696</td>\n",
       "      <td>11.304642</td>\n",
       "      <td>1510</td>\n",
       "      <td>6</td>\n",
       "    </tr>\n",
       "    <tr>\n",
       "      <th>7</th>\n",
       "      <td>WINTER</td>\n",
       "      <td>2011</td>\n",
       "      <td>JAN</td>\n",
       "      <td>NO HOLIDAY</td>\n",
       "      <td>SAT</td>\n",
       "      <td>NO WORKING DAY</td>\n",
       "      <td>MISTY</td>\n",
       "      <td>-0.245000</td>\n",
       "      <td>53.5833</td>\n",
       "      <td>17.875868</td>\n",
       "      <td>959</td>\n",
       "      <td>7</td>\n",
       "    </tr>\n",
       "    <tr>\n",
       "      <th>8</th>\n",
       "      <td>WINTER</td>\n",
       "      <td>2011</td>\n",
       "      <td>JAN</td>\n",
       "      <td>NO HOLIDAY</td>\n",
       "      <td>SUN</td>\n",
       "      <td>NO WORKING DAY</td>\n",
       "      <td>GOOD</td>\n",
       "      <td>-1.498349</td>\n",
       "      <td>43.4167</td>\n",
       "      <td>24.250650</td>\n",
       "      <td>822</td>\n",
       "      <td>8</td>\n",
       "    </tr>\n",
       "    <tr>\n",
       "      <th>9</th>\n",
       "      <td>WINTER</td>\n",
       "      <td>2011</td>\n",
       "      <td>JAN</td>\n",
       "      <td>NO HOLIDAY</td>\n",
       "      <td>MON</td>\n",
       "      <td>WORKING DAY</td>\n",
       "      <td>GOOD</td>\n",
       "      <td>-0.910849</td>\n",
       "      <td>48.2917</td>\n",
       "      <td>14.958889</td>\n",
       "      <td>1321</td>\n",
       "      <td>9</td>\n",
       "    </tr>\n",
       "  </tbody>\n",
       "</table>\n",
       "</div>"
      ],
      "text/plain": [
       "   season    yr mnth     holiday weekday      workingday weathersit      temp  \\\n",
       "0  WINTER  2011  JAN  NO HOLIDAY     SAT  NO WORKING DAY      MISTY  8.175849   \n",
       "1  WINTER  2011  JAN  NO HOLIDAY     SUN  NO WORKING DAY      MISTY  9.083466   \n",
       "2  WINTER  2011  JAN  NO HOLIDAY     MON     WORKING DAY       GOOD  1.229108   \n",
       "3  WINTER  2011  JAN  NO HOLIDAY     TUE     WORKING DAY       GOOD  1.400000   \n",
       "4  WINTER  2011  JAN  NO HOLIDAY     WED     WORKING DAY       GOOD  2.666979   \n",
       "5  WINTER  2011  JAN  NO HOLIDAY     THU     WORKING DAY       GOOD  1.604356   \n",
       "6  WINTER  2011  JAN  NO HOLIDAY     FRI     WORKING DAY      MISTY  1.236534   \n",
       "7  WINTER  2011  JAN  NO HOLIDAY     SAT  NO WORKING DAY      MISTY -0.245000   \n",
       "8  WINTER  2011  JAN  NO HOLIDAY     SUN  NO WORKING DAY       GOOD -1.498349   \n",
       "9  WINTER  2011  JAN  NO HOLIDAY     MON     WORKING DAY       GOOD -0.910849   \n",
       "\n",
       "       hum  windspeed   cnt  days_since_2011  \n",
       "0  80.5833  10.749882   985                0  \n",
       "1  69.6087  16.652113   801                1  \n",
       "2  43.7273  16.636703  1349                2  \n",
       "3  59.0435  10.739832  1562                3  \n",
       "4  43.6957  12.522300  1600                4  \n",
       "5  51.8261   6.000868  1606                5  \n",
       "6  49.8696  11.304642  1510                6  \n",
       "7  53.5833  17.875868   959                7  \n",
       "8  43.4167  24.250650   822                8  \n",
       "9  48.2917  14.958889  1321                9  "
      ]
     },
     "execution_count": 54,
     "metadata": {},
     "output_type": "execute_result"
    }
   ],
   "source": [
    "bikes_hdf.collect().head(n=10)"
   ]
  },
  {
   "cell_type": "markdown",
   "id": "43b4ebb4-8e3d-43ae-a26d-6f098aa86270",
   "metadata": {},
   "source": [
    "...or `[\"season\"].unique().tolist()` to output [unique values](https://pandas.pydata.org/docs/reference/api/pandas.Series.unique.html#pandas.Series.unique) only from the `season` column [as a list](https://pandas.pydata.org/docs/reference/api/pandas.Series.tolist.html#pandas.Series.tolist)."
   ]
  },
  {
   "cell_type": "code",
   "execution_count": 55,
   "id": "a357f4be-1c6e-4f69-adcd-8a5ae1c20d5c",
   "metadata": {},
   "outputs": [
    {
     "data": {
      "text/plain": [
       "['WINTER', 'SPRING', 'SUMMER', 'FALL']"
      ]
     },
     "execution_count": 55,
     "metadata": {},
     "output_type": "execute_result"
    }
   ],
   "source": [
    "bikes_hdf.collect()[\"season\"].unique().tolist()"
   ]
  },
  {
   "cell_type": "markdown",
   "id": "b5364db7-5e92-4fc5-83e9-ad63e505bc77",
   "metadata": {},
   "source": [
    "The problem with the above approach applying Pandas' data manipulation methods **after** `collect()` -- as in the two cells above -- is that they require **complete** set of data be transferred from a table in SAP HANA database to Python client before data manipulation is applied.\n",
    "\n",
    "Next week you will work on applying data manipulation **before** `collect()` is executed, so that methods are pushed down to be executed in the SAP HANA database and **only results** are returned to the client!\n",
    "\n",
    "### Stay tuned for the Week 3!"
   ]
  },
  {
   "cell_type": "code",
   "execution_count": null,
   "id": "20289a63-efb4-437b-a9a7-3debacdc7427",
   "metadata": {},
   "outputs": [],
   "source": []
  }
 ],
 "metadata": {
  "kernelspec": {
   "display_name": "Python 3 (ipykernel)",
   "language": "python",
   "name": "python3"
  },
  "language_info": {
   "codemirror_mode": {
    "name": "ipython",
    "version": 3
   },
   "file_extension": ".py",
   "mimetype": "text/x-python",
   "name": "python",
   "nbconvert_exporter": "python",
   "pygments_lexer": "ipython3",
   "version": "3.9.6"
  }
 },
 "nbformat": 4,
 "nbformat_minor": 5
}
